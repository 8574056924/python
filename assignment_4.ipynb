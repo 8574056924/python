{
 "cells": [
  {
   "cell_type": "code",
   "execution_count": 10,
   "id": "99fcb7b2",
   "metadata": {},
   "outputs": [
    {
     "name": "stdout",
     "output_type": "stream",
     "text": [
      "enter a number5\n",
      "120\n"
     ]
    }
   ],
   "source": [
    "#Write a Python Program to Find the Factorial of a Number?\n",
    "num=int(input('enter a number'))\n",
    "fact=1\n",
    "if num<0:\n",
    "    print('negative number dose not exist')\n",
    "elif num==0:\n",
    "    print('fact is 1')\n",
    "else:\n",
    "    for i in range(1,num+1):\n",
    "        \n",
    "        fact=fact*i\n",
    "    print(fact)"
   ]
  },
  {
   "cell_type": "code",
   "execution_count": 1,
   "id": "6084a394",
   "metadata": {},
   "outputs": [
    {
     "name": "stdout",
     "output_type": "stream",
     "text": [
      "5\n",
      "5 X 1=5\n",
      "5 X 2=10\n",
      "5 X 3=15\n",
      "5 X 4=20\n",
      "5 X 5=25\n",
      "5 X 6=30\n",
      "5 X 7=35\n",
      "5 X 8=40\n",
      "5 X 9=45\n",
      "5 X 10=50\n"
     ]
    }
   ],
   "source": [
    "#Write a Python Program to Display the multiplication Table?\n",
    "n=int(input())\n",
    "for i in range(1,11):\n",
    "\n",
    "    print(f'{n} X {i}={n*i}')\n"
   ]
  },
  {
   "cell_type": "code",
   "execution_count": 3,
   "id": "9b9ea016",
   "metadata": {},
   "outputs": [
    {
     "name": "stdout",
     "output_type": "stream",
     "text": [
      "6\n",
      "0 1 1 2 3 5 "
     ]
    }
   ],
   "source": [
    "#Write a Python Program to Print the Fibonacci sequence?\n",
    "n=int(input())\n",
    "a=0\n",
    "b=1\n",
    "if n==1:\n",
    "    print(a)\n",
    "elif n==2:\n",
    "    print(a,b)\n",
    "else:\n",
    "    print(a,b, end=\" \")\n",
    "for i in range(n-2):\n",
    "    c=a+b\n",
    "    a=b\n",
    "    b=c\n",
    "    print(b,end = \" \")"
   ]
  },
  {
   "cell_type": "code",
   "execution_count": 5,
   "id": "f8224227",
   "metadata": {},
   "outputs": [
    {
     "name": "stdout",
     "output_type": "stream",
     "text": [
      "Enter the number: 153\n",
      "153\n",
      "The number is an Armstrong number!\n"
     ]
    }
   ],
   "source": [
    "#Write a Python Program to Check Armstrong Number?\n",
    "n = input('Enter the number: ')\n",
    "length = len(n)\n",
    "value = 0\n",
    "for i in n:\n",
    "    a = int(i)**length\n",
    "    value = value + a\n",
    "print(value)\n",
    "if value == int(n):\n",
    "    print('The number is an Armstrong number!')\n",
    "else:\n",
    "    print('The number is not an Armstrong number.')\n"
   ]
  },
  {
   "cell_type": "code",
   "execution_count": 14,
   "id": "53d90fa3",
   "metadata": {},
   "outputs": [
    {
     "name": "stdout",
     "output_type": "stream",
     "text": [
      "100\n",
      "1000\n",
      "153\n",
      "370\n",
      "371\n",
      "407\n"
     ]
    }
   ],
   "source": [
    "#Write a Python Program to Find Armstrong Number in an Interval?\n",
    "lower = int(input())\n",
    "uppar = int(input())\n",
    "for num in range(lower,uppar+1):\n",
    "    sum = 0\n",
    "    order = len(str(num))\n",
    "    temp=num\n",
    "    while temp>0:\n",
    "        digit = temp%10\n",
    "        sum += digit**order\n",
    "        temp //= 10\n",
    "    if num == sum:\n",
    "        print(num)\n"
   ]
  },
  {
   "cell_type": "code",
   "execution_count": 11,
   "id": "5983a63c",
   "metadata": {},
   "outputs": [
    {
     "name": "stdout",
     "output_type": "stream",
     "text": [
      "5\n",
      "1\n",
      "3\n",
      "6\n",
      "10\n",
      "15\n"
     ]
    }
   ],
   "source": [
    "#Write a Python Program to Find the Sum of Natural Numbers?\n",
    "n=int(input())\n",
    "sum=0\n",
    "for i in range(1,n+1):\n",
    "    sum=sum+i\n",
    "    print(sum)"
   ]
  },
  {
   "cell_type": "code",
   "execution_count": null,
   "id": "81168bd3",
   "metadata": {},
   "outputs": [],
   "source": []
  }
 ],
 "metadata": {
  "kernelspec": {
   "display_name": "Python 3 (ipykernel)",
   "language": "python",
   "name": "python3"
  },
  "language_info": {
   "codemirror_mode": {
    "name": "ipython",
    "version": 3
   },
   "file_extension": ".py",
   "mimetype": "text/x-python",
   "name": "python",
   "nbconvert_exporter": "python",
   "pygments_lexer": "ipython3",
   "version": "3.9.12"
  }
 },
 "nbformat": 4,
 "nbformat_minor": 5
}
