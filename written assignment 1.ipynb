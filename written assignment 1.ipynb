{
 "cells": [
  {
   "cell_type": "raw",
   "id": "625ffd60",
   "metadata": {},
   "source": [
    "#1. In the below elements which of them are values or an expression? eg:- values can be\n",
    "integer or string and expressions will be mathematical operators.\n",
    "* == 'Arithmetic operator multiple'\n",
    "'hello'== 'String'\n",
    "-87.8 == 'float value'\n",
    "- == 'subtraction'\n",
    "/ == 'dividion'\n",
    "+ == 'addition'\n",
    "6 == 'int'"
   ]
  },
  {
   "cell_type": "raw",
   "id": "f9e084b6",
   "metadata": {},
   "source": [
    "#2.What is the difference between string and variable?\n",
    "String == string is immutable because we can not change in python program. string start with '----' and \"---\"\n",
    "variable == variable can't start with number and special character we can start with underscore( _ ) we can change the variable name and value."
   ]
  },
  {
   "cell_type": "raw",
   "id": "110a0451",
   "metadata": {},
   "source": [
    "#3. Describe three different data types.\n",
    "Answer==there are 3 different data types..... int,float,str\n",
    "int = it indicate the integer value for example== 1,2,3,4\n",
    "float = it represent the float type of value for example== 1.0,2,5 etc\n",
    "str = it represent the str type of value for example == 'vishal','ineoron' etc"
   ]
  },
  {
   "cell_type": "raw",
   "id": "9eab14d5",
   "metadata": {},
   "source": [
    "#4. What is an expression made up of? What do all expressions do?\n",
    "Answer== Expression made up of is the combination of operator and operands that is interpreted tp produce some other value.there are different type of expression-\n",
    "1. Constant Expressions: These are the expressions that have constant values only.\n",
    "2. Arithmetic Expressions: An arithmetic expression is a combination of numeric values, operators, and sometimes parenthesis The result of this type of expression is also a numeric value. The operators used in these expressions are arithmetic operators like addition, subtraction, etc.\n",
    "3. Integral Expressions: These are the kind of expressions that produce only integer results after all computations and type conversions.\n",
    "4. Floating Expressions: These are the kind of expressions which produce floating point numbers as result after all computations and type conversions.\n",
    "5. Relational Expressions: In these types of expressions, arithmetic expressions are written on both sides of relational operator (> , < , >= , <=). Those arithmetic expressions are evaluated first, and then compared as per relational operator and produce a boolean output in the end.\n",
    "6. Logical Expressions: These are kinds of expressions that result in either True or False. It basically specifies one or more conditions\n",
    "7. Bitwise Expressions: These are the kind of expressions in which computations are performed at bit level.\n"
   ]
  },
  {
   "cell_type": "raw",
   "id": "a3868f52",
   "metadata": {},
   "source": [
    "#5. This assignment statements, like spam = 10. What is the difference between expression and a statement?\n",
    "Answer==A statement is some 'evaluatable code'  that does not appear in an expression context. for example print is the statement it is used to print all any thing which we want in the python.\n",
    "here spam = 10 we are assigning a 10 in a variable so it is expression."
   ]
  },
  {
   "cell_type": "code",
   "execution_count": 1,
   "id": "77162b81",
   "metadata": {},
   "outputs": [
    {
     "data": {
      "text/plain": [
       "23"
      ]
     },
     "execution_count": 1,
     "metadata": {},
     "output_type": "execute_result"
    }
   ],
   "source": [
    "#6. After running the following code, what does the variable bacon contain?\n",
    "bacon = 22\n",
    "bacon + 1"
   ]
  },
  {
   "cell_type": "code",
   "execution_count": 4,
   "id": "3d03d095",
   "metadata": {},
   "outputs": [
    {
     "data": {
      "text/plain": [
       "30"
      ]
     },
     "execution_count": 4,
     "metadata": {},
     "output_type": "execute_result"
    }
   ],
   "source": [
    "#7. What should the values of the following two terms be?\n",
    "spam = 10\n",
    "#spam + 'spamspam' -----here spamspam is not defined so it will give an error.\n",
    "spam * 3"
   ]
  },
  {
   "cell_type": "raw",
   "id": "6db6b097",
   "metadata": {},
   "source": [
    "#8. Why is eggs a valid variable name while 100 is invalid?\n",
    "Answer==Because variable names cannot begin with a number so 100 is invalid."
   ]
  },
  {
   "cell_type": "code",
   "execution_count": 10,
   "id": "051f0257",
   "metadata": {},
   "outputs": [
    {
     "name": "stdout",
     "output_type": "stream",
     "text": [
      "(<class 'int'>, <class 'float'>, <class 'str'>)\n"
     ]
    }
   ],
   "source": [
    "#9. What three functions can be used to get the integer, floating-point number, or string version of a value?\n",
    "a=[10,5.6,'vishal']\n",
    "print(f'{type(a[0]),type(a[1]),type(a[2])}')\n"
   ]
  },
  {
   "cell_type": "code",
   "execution_count": 14,
   "id": "5bb932c0",
   "metadata": {},
   "outputs": [
    {
     "data": {
      "text/plain": [
       "'i have eatenburritos'"
      ]
     },
     "execution_count": 14,
     "metadata": {},
     "output_type": "execute_result"
    }
   ],
   "source": [
    "#10. Why does this expression cause an error? How can you fix it?\n",
    "'i have eaten'+99+'burritos'\n",
    "#only we can same data type adding in python so here int is also present so it is giving an error"
   ]
  },
  {
   "cell_type": "code",
   "execution_count": null,
   "id": "f9732066",
   "metadata": {},
   "outputs": [],
   "source": []
  }
 ],
 "metadata": {
  "kernelspec": {
   "display_name": "Python 3 (ipykernel)",
   "language": "python",
   "name": "python3"
  },
  "language_info": {
   "codemirror_mode": {
    "name": "ipython",
    "version": 3
   },
   "file_extension": ".py",
   "mimetype": "text/x-python",
   "name": "python",
   "nbconvert_exporter": "python",
   "pygments_lexer": "ipython3",
   "version": "3.9.12"
  }
 },
 "nbformat": 4,
 "nbformat_minor": 5
}
