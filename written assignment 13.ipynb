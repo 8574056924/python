{
 "cells": [
  {
   "cell_type": "markdown",
   "id": "a2a0a27f",
   "metadata": {},
   "source": [
    "# 1. What advantages do Excel spreadsheets have over CSV spreadsheets?\n",
    "\n",
    "Answer --> Excel is more superior when compared with the CSV file format thus, CSV consumes less amount of file size when the user is importing data it is a much faster format compared to excel. CSV does not manipulate data and stores it as-is. Excel also allows the user the add-in feature."
   ]
  },
  {
   "cell_type": "markdown",
   "id": "68cb5376",
   "metadata": {},
   "source": [
    "# 2.What do you pass to csv.reader() and csv.writer() to create reader and writer objects?\n",
    "\n",
    "Answer = we pass a File object, obtained from a call to open()."
   ]
  },
  {
   "cell_type": "code",
   "execution_count": null,
   "id": "e284a894",
   "metadata": {},
   "outputs": [],
   "source": [
    "import csv\n",
    "exFile = open('addresses.csv')\n",
    "exreader = csv.reader(exFile)\n",
    "exData = list(exreader)\n",
    "exData"
   ]
  },
  {
   "cell_type": "markdown",
   "id": "3d5d633b",
   "metadata": {},
   "source": [
    "# 3. What modes do File objects for reader and writer objects need to be opened in?\n",
    "Answer--> 'r' -- read mode\n",
    "          'w' -- write mode\n",
    "          '+' -- read and write mode"
   ]
  },
  {
   "cell_type": "markdown",
   "id": "75fa4f3c",
   "metadata": {},
   "source": [
    "# 4. What method takes a list argument and writes it to a CSV file?\n",
    " Answer--> the writerow method takes a list argument and write it to a csv file."
   ]
  },
  {
   "cell_type": "markdown",
   "id": "665397fb",
   "metadata": {},
   "source": [
    "# 5. What do the keyword arguments delimiter and line terminator do?\n",
    "Answer-->  delimiter--> The delimiter keyword argument specifies the character used to separate fields in a CSV file. By default, it is set to ',' but it can be set to any other character, such as a tab ('\\t') or a pipe ('|'), depending on the requirements of the data being written.\n",
    "\n",
    "lineterminator--> The lineterminator keyword argument specifies the character used to terminate each row in the CSV file. By default, it is set to '\\r\\n' (carriage return and line feed), which is the standard line terminator for Windows systems. However, it can be set to '\\n' (line feed) or '\\r' (carriage return) depending on the requirements of the data being written.\n"
   ]
  },
  {
   "cell_type": "markdown",
   "id": "e6cc8d20",
   "metadata": {},
   "source": [
    "# 6. What function takes a string of JSON data and returns a Python data structure?\n",
    "\n",
    "Answer--> json.loads()"
   ]
  },
  {
   "cell_type": "markdown",
   "id": "27255d61",
   "metadata": {},
   "source": [
    "# 7. What function takes a Python data structure and returns a string of JSON data?\n",
    "Answer--> json.dumps()--> This method is used to convert a Python object to a JSON-formatted string. It takes a Python object as input and returns a string."
   ]
  }
 ],
 "metadata": {
  "kernelspec": {
   "display_name": "Python 3 (ipykernel)",
   "language": "python",
   "name": "python3"
  },
  "language_info": {
   "codemirror_mode": {
    "name": "ipython",
    "version": 3
   },
   "file_extension": ".py",
   "mimetype": "text/x-python",
   "name": "python",
   "nbconvert_exporter": "python",
   "pygments_lexer": "ipython3",
   "version": "3.9.12"
  }
 },
 "nbformat": 4,
 "nbformat_minor": 5
}
