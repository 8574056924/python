{
 "cells": [
  {
   "cell_type": "code",
   "execution_count": 1,
   "id": "5b1a4968",
   "metadata": {},
   "outputs": [
    {
     "name": "stdout",
     "output_type": "stream",
     "text": [
      "enter ist number9\n",
      "enter 2nd number64\n",
      "LCM of 9 and 64 is 576\n"
     ]
    }
   ],
   "source": [
    "#Write a Python Program to Find LCM?\n",
    "num1=int(input('enter ist number'))\n",
    "num2=int(input('enter 2nd number'))\n",
    "maxnum = max(num1,num2)\n",
    "while(True):\n",
    "    if (maxnum%num1==0 and maxnum%num2==0):\n",
    "        break\n",
    "    maxnum = maxnum+1\n",
    "print(f'LCM of {num1} and {num2} is {maxnum}')\n",
    "\n",
    "\n",
    "    "
   ]
  },
  {
   "cell_type": "code",
   "execution_count": 2,
   "id": "2ebb3373",
   "metadata": {},
   "outputs": [
    {
     "name": "stdout",
     "output_type": "stream",
     "text": [
      "enter ist number9\n",
      "enter 2nd number6\n",
      "the HCF of 9 and 6 is 3\n"
     ]
    }
   ],
   "source": [
    "#Write a Python Program to Find HCF?\n",
    "num1=int(input('enter ist number'))\n",
    "num2=int(input('enter 2nd number'))\n",
    "if num2>num1:\n",
    "    mn = num1\n",
    "else:\n",
    "    mn = num2\n",
    "for i in range(1,mn+1):\n",
    "    if (num1%i==0 and num2%i==0):\n",
    "        hcf = i\n",
    "print(f'the HCF of {num1} and {num2} is {hcf}')\n",
    "    \n",
    "     \n"
   ]
  },
  {
   "cell_type": "code",
   "execution_count": 5,
   "id": "7c0c35af",
   "metadata": {},
   "outputs": [
    {
     "name": "stdout",
     "output_type": "stream",
     "text": [
      "9\n",
      "1001"
     ]
    }
   ],
   "source": [
    "#Write a Python Program to Convert Decimal to Binary, Octal and Hexadecimal?\n",
    "n=int(input())\n",
    "l=list()\n",
    "while n!=0:\n",
    "    r=n%2\n",
    "    l.append(r)\n",
    "    n=n//2\n",
    "l.reverse()\n",
    "for i in l:\n",
    "    print(i,end='')"
   ]
  },
  {
   "cell_type": "code",
   "execution_count": 3,
   "id": "4fb415c6",
   "metadata": {},
   "outputs": [
    {
     "name": "stdout",
     "output_type": "stream",
     "text": [
      "enter a decimal number84\n",
      "decimal convert into octal0o124 and hexadecimal 0x54\n"
     ]
    }
   ],
   "source": [
    "n=int(input('enter a decimal number'))\n",
    "octal=oct(n)\n",
    "hexadecimal=hex(n)\n",
    "print(f'decimal convert into octal {octal} and hexadecimal {hexadecimal}')"
   ]
  },
  {
   "cell_type": "code",
   "execution_count": 4,
   "id": "07d114e3",
   "metadata": {},
   "outputs": [
    {
     "name": "stdout",
     "output_type": "stream",
     "text": [
      "enter a char valuek\n",
      "ASCII value of char is 107\n"
     ]
    }
   ],
   "source": [
    "#Write a Python Program To Find ASCII value of a character?\n",
    "char = input('enter a char value')\n",
    "a=ord(char)\n",
    "print(f'ASCII value of char is {a}')"
   ]
  },
  {
   "cell_type": "code",
   "execution_count": 8,
   "id": "8cd16705",
   "metadata": {},
   "outputs": [
    {
     "name": "stdout",
     "output_type": "stream",
     "text": [
      "Enter first number: 6\n",
      "Enter second number: 6\n",
      "Operation: +, -, *, //\n",
      "Select operations: //\n",
      "6 // 6 = 1\n"
     ]
    }
   ],
   "source": [
    "#Write a Python Program to Make a Simple Calculator with 4 basic mathematical operations?\n",
    "num1 = int(input(\"Enter first number: \"))\n",
    "num2 = int(input(\"Enter second number: \"))\n",
    "\n",
    "print(\"Operation: +, -, *, //\")\n",
    "select = input(\"Select operations: \")\n",
    "if select == \"+\":\n",
    "    print(num1, \"+\", num2, \"=\", num1+num2)\n",
    "\n",
    "elif select == \"-\":\n",
    "    print(num1, \"-\", num2, \"=\", num1-num2)\n",
    "\n",
    "elif select == \"*\":\n",
    "    print(num1, \"*\", num2, \"=\", num1*num2)\n",
    "\n",
    "elif select == \"//\":\n",
    "    print(num1, \"//\", num2, \"=\", num1//num2)\n",
    "\n",
    "else:\n",
    "    print(\"Invalid input\")\n",
    "\n"
   ]
  },
  {
   "cell_type": "code",
   "execution_count": null,
   "id": "72830569",
   "metadata": {},
   "outputs": [],
   "source": []
  }
 ],
 "metadata": {
  "kernelspec": {
   "display_name": "Python 3 (ipykernel)",
   "language": "python",
   "name": "python3"
  },
  "language_info": {
   "codemirror_mode": {
    "name": "ipython",
    "version": 3
   },
   "file_extension": ".py",
   "mimetype": "text/x-python",
   "name": "python",
   "nbconvert_exporter": "python",
   "pygments_lexer": "ipython3",
   "version": "3.9.12"
  }
 },
 "nbformat": 4,
 "nbformat_minor": 5
}
