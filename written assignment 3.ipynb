{
 "cells": [
  {
   "cell_type": "raw",
   "id": "1a3694c2",
   "metadata": {},
   "source": [
    "#1. Why are functions advantageous to have in your programs?\n",
    "Answer=Because of function advantageous to have in python program,When we use the function in program code will be readable in easy form and We can use multi time same code with less complexity.function can be used to create our own header file which can be used in any number of programs i.e. the reusability.\n"
   ]
  },
  {
   "cell_type": "code",
   "execution_count": 1,
   "id": "3a7ad83d",
   "metadata": {},
   "outputs": [],
   "source": [
    "#2. When does the code in a function run: when it is specified or when is called?\n",
    "def test(a,b):\n",
    "    return a+b"
   ]
  },
  {
   "cell_type": "code",
   "execution_count": 2,
   "id": "717cf95b",
   "metadata": {},
   "outputs": [
    {
     "data": {
      "text/plain": [
       "9"
      ]
     },
     "execution_count": 2,
     "metadata": {},
     "output_type": "execute_result"
    }
   ],
   "source": [
    "test(4,5)"
   ]
  },
  {
   "cell_type": "raw",
   "id": "c009d803",
   "metadata": {},
   "source": [
    "Answer= When it's called the function"
   ]
  },
  {
   "cell_type": "code",
   "execution_count": null,
   "id": "6247f394",
   "metadata": {},
   "outputs": [],
   "source": [
    "#3. What statement creates a function?\n",
    "Answer=def test():"
   ]
  },
  {
   "cell_type": "raw",
   "id": "36b2c308",
   "metadata": {},
   "source": [
    "4. What is the difference between a function and a function call?\n",
    "Answer=A function is a block of code that does a particular operation and returns a result. It usually accepts inputs as parameters and returns a result.\n",
    "\n",
    "A function call is the code used to pass control to a function.\n"
   ]
  },
  {
   "cell_type": "raw",
   "id": "a302a1be",
   "metadata": {},
   "source": [
    "5. How many global scopes are there in a Python program? How many local scopes?\n",
    "Answer=Global scope is only one \n",
    "       1.Global\n",
    "       there are 3 local scopes\n",
    "       1.built in scopes\n",
    "       2.unclosing scopes\n",
    "       3.local scopes\n"
   ]
  },
  {
   "cell_type": "raw",
   "id": "722e451c",
   "metadata": {},
   "source": [
    "6. What happens to variables in a local scope when the function call returns?\n",
    "Answer=By default, the assignment statement creates variables in the local scope. So the assignment inside the function does not modify the global variable it creates a new local variable called a , and assigns the value 3 to that variable.\n"
   ]
  },
  {
   "cell_type": "raw",
   "id": "f3c70e69",
   "metadata": {},
   "source": [
    "7. What is the concept of a return value? Is it possible to have a return value in an expression?\n",
    "Answer=The Python return statement is a key component of functions and methods. we can use the return statement to make your functions send Python objects back to the caller code. These objects are known as the function’s return value. You can use them to perform further computation in your programs.yes it is possible to have a return value in an expression."
   ]
  },
  {
   "cell_type": "raw",
   "id": "dc3bf933",
   "metadata": {},
   "source": [
    "8. If a function does not have a return statement, what is the return value of a call to that function?\n",
    "Answer=If a function does not have a return statement,None value is return of a call to that function. "
   ]
  },
  {
   "cell_type": "code",
   "execution_count": 5,
   "id": "008fc93f",
   "metadata": {},
   "outputs": [
    {
     "name": "stdout",
     "output_type": "stream",
     "text": [
      "Total =  10\n",
      "Total =  15\n"
     ]
    }
   ],
   "source": [
    "#9. How do you make a function variable refer to the global variable?\n",
    "total = 10\n",
    "def func():\n",
    "    global total\n",
    "    if total > 6:\n",
    "        total = 15\n",
    "print('Total = ', total)\n",
    "func()\n",
    "print('Total = ', total)"
   ]
  },
  {
   "cell_type": "raw",
   "id": "822d408b",
   "metadata": {},
   "source": [
    "10. What is the data type of None?\n",
    "Answer=None data type is used to when we want to nothing return in the function.it id define a null value"
   ]
  },
  {
   "cell_type": "raw",
   "id": "54807258",
   "metadata": {},
   "source": [
    "11. What does the sentence import areallyourpetsnamederic do?\n",
    "Answer= import areallyourpetsnamederic is create a new library areallyourpetsnamederic in the program"
   ]
  },
  {
   "cell_type": "raw",
   "id": "a4a9401e",
   "metadata": {},
   "source": [
    "12. If you had a bacon() feature in a spam module, what would you call it after importing spam?\n",
    "Answer=spam.bacon()"
   ]
  },
  {
   "cell_type": "raw",
   "id": "7843aec0",
   "metadata": {},
   "source": [
    "13. What can you do to save a programme from crashing if it encounters an error?\n",
    "Answer=We will use the concept of exception handling in the program if we want to crashing a program if there are any error in program."
   ]
  },
  {
   "cell_type": "raw",
   "id": "b67e87ac",
   "metadata": {},
   "source": [
    "14. What is the purpose of the try clause? What is the purpose of the except clause?\n",
    "Answer=when we create a program of python if there are syntax error in the program then try clause and except clause will not work in the program.if there are compile time error where we can use exception handling.\n",
    "\n",
    "The try except statement can handle exceptions. Exceptions may happen when you run a program.\n",
    "\n",
    "Exceptions are errors that happen during execution of the program. Python won’t tell you about errors like syntax errors instead it will abruptly stop.\n"
   ]
  },
  {
   "cell_type": "code",
   "execution_count": 1,
   "id": "c9e94035",
   "metadata": {},
   "outputs": [
    {
     "name": "stdout",
     "output_type": "stream",
     "text": [
      "Enter number: 6\n",
      "Invalid input\n"
     ]
    }
   ],
   "source": [
    "try:\n",
    "    x = input(\"Enter number: \")\n",
    "    x = x + 1\n",
    "    print(x)\n",
    "except:\n",
    "    print(\"Invalid input\")"
   ]
  },
  {
   "cell_type": "code",
   "execution_count": null,
   "id": "d57812f5",
   "metadata": {},
   "outputs": [],
   "source": []
  }
 ],
 "metadata": {
  "kernelspec": {
   "display_name": "Python 3 (ipykernel)",
   "language": "python",
   "name": "python3"
  },
  "language_info": {
   "codemirror_mode": {
    "name": "ipython",
    "version": 3
   },
   "file_extension": ".py",
   "mimetype": "text/x-python",
   "name": "python",
   "nbconvert_exporter": "python",
   "pygments_lexer": "ipython3",
   "version": "3.9.12"
  }
 },
 "nbformat": 4,
 "nbformat_minor": 5
}
