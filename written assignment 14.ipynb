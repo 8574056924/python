{
 "cells": [
  {
   "cell_type": "markdown",
   "id": "152dcc5c",
   "metadata": {},
   "source": [
    "# What does RGBA stand for?\n",
    "Answer-->Red-Green-Blue-Alpha"
   ]
  },
  {
   "cell_type": "markdown",
   "id": "da1e9832",
   "metadata": {},
   "source": [
    "# From the Pillow module, how do you get the RGBA value of any images?\n",
    "Answer--> we will use the getdata()"
   ]
  },
  {
   "cell_type": "code",
   "execution_count": null,
   "id": "77615a74",
   "metadata": {},
   "outputs": [],
   "source": [
    "from PIL import Image\n",
    "image = Image.open('my_image.png')\n",
    "pixel_data = image.getdata()\n",
    "print(list(pixel_data))"
   ]
  },
  {
   "cell_type": "markdown",
   "id": "d88f6c58",
   "metadata": {},
   "source": [
    "# What is a box tuple, and how does it work?\n",
    "Answer--> box tuple is a tuple of four integer values that represents the rectangular region of an image.four integer value is 'left','right','upper','lower'."
   ]
  },
  {
   "cell_type": "markdown",
   "id": "d3189365",
   "metadata": {},
   "source": [
    "# Use your image and load in notebook then, How can you find out the width and height of an Image object?"
   ]
  },
  {
   "cell_type": "code",
   "execution_count": null,
   "id": "74fc3d48",
   "metadata": {},
   "outputs": [],
   "source": [
    "from PIL import Image\n",
    "image = Image.open('vishal.png')\n",
    "width, height = image.size\n",
    "print(f\"Image width: {width}, Image height: {height}\")"
   ]
  },
  {
   "cell_type": "markdown",
   "id": "2570ad4d",
   "metadata": {},
   "source": [
    "# What method would you call to get Image object for a 100×100 image, excluding the lower-left quarter of it?\n",
    "Answer-->ImageObject.crop((0, 50, 50, 50))"
   ]
  },
  {
   "cell_type": "markdown",
   "id": "8f717da3",
   "metadata": {},
   "source": [
    "# After making changes to an Image object, how could you save it as an image file?\n",
    "Answer-->imageObj.save('new_filename.png')"
   ]
  },
  {
   "cell_type": "markdown",
   "id": "7accad4c",
   "metadata": {},
   "source": [
    "# What module contains Pillow’s shape-drawing code?\n",
    "Answer-->The ImageDraw module contains code to draw on images\n",
    "\n"
   ]
  },
  {
   "cell_type": "markdown",
   "id": "620e5efd",
   "metadata": {},
   "source": [
    "# Image objects do not have drawing methods. What kind of object does? How do you get this kind of object?\n",
    "Answer-->ImageDraw objects have shape-drawing methods such as point(), line(), or rectangle(). They are returned by passing the Image object to the ImageDraw.Draw() function"
   ]
  }
 ],
 "metadata": {
  "kernelspec": {
   "display_name": "Python 3 (ipykernel)",
   "language": "python",
   "name": "python3"
  },
  "language_info": {
   "codemirror_mode": {
    "name": "ipython",
    "version": 3
   },
   "file_extension": ".py",
   "mimetype": "text/x-python",
   "name": "python",
   "nbconvert_exporter": "python",
   "pygments_lexer": "ipython3",
   "version": "3.9.12"
  }
 },
 "nbformat": 4,
 "nbformat_minor": 5
}
