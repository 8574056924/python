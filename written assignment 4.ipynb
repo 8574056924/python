{
 "cells": [
  {
   "cell_type": "code",
   "execution_count": 1,
   "id": "fa67a3d8",
   "metadata": {},
   "outputs": [
    {
     "data": {
      "text/plain": [
       "list"
      ]
     },
     "execution_count": 1,
     "metadata": {},
     "output_type": "execute_result"
    }
   ],
   "source": [
    "#1. What exactly is []?\n",
    "a=[]\n",
    "type(a)"
   ]
  },
  {
   "cell_type": "code",
   "execution_count": 38,
   "id": "6a00d1d8",
   "metadata": {},
   "outputs": [
    {
     "name": "stdout",
     "output_type": "stream",
     "text": [
      "[2, 4, 'hello', 6, 8, 10]\n"
     ]
    }
   ],
   "source": [
    "'''2. In a list of values stored in a variable called spam, how would you assign the value hello as the\n",
    "third value? (Assume [2, 4, 6, 8, 10] are in spam.)'''\n",
    "spam=[2,4,6,8,10]\n",
    "spam.insert(2,'hello')\n",
    "print(spam)\n",
    "\n",
    "\n"
   ]
  },
  {
   "cell_type": "code",
   "execution_count": 24,
   "id": "858fe1d5",
   "metadata": {},
   "outputs": [
    {
     "data": {
      "text/plain": [
       "'d'"
      ]
     },
     "execution_count": 24,
     "metadata": {},
     "output_type": "execute_result"
    }
   ],
   "source": [
    "#Lets pretend the spam includes the list ['a', 'b','c', 'd'] for the next three queries.\n",
    "#3. What is the value of spam[int(int(&#39;3&#39; * 2) / 11)]?\n",
    "spam=['a', 'b','c', 'd']\n",
    "spam[int(int('3' * 2) / 11)]                                "
   ]
  },
  {
   "cell_type": "code",
   "execution_count": 23,
   "id": "0b8206e5",
   "metadata": {},
   "outputs": [
    {
     "data": {
      "text/plain": [
       "'d'"
      ]
     },
     "execution_count": 23,
     "metadata": {},
     "output_type": "execute_result"
    }
   ],
   "source": [
    "#4. What is the value of spam[-1]?\n",
    "spam=['a', 'b','c', 'd']\n",
    "spam[-1]"
   ]
  },
  {
   "cell_type": "code",
   "execution_count": 25,
   "id": "e49c445a",
   "metadata": {},
   "outputs": [
    {
     "data": {
      "text/plain": [
       "['a', 'b']"
      ]
     },
     "execution_count": 25,
     "metadata": {},
     "output_type": "execute_result"
    }
   ],
   "source": [
    "#5. What is the value of spam[:2]?\n",
    "spam=['a', 'b','c', 'd']\n",
    "spam[:2]"
   ]
  },
  {
   "cell_type": "code",
   "execution_count": 26,
   "id": "7014bc9d",
   "metadata": {},
   "outputs": [
    {
     "data": {
      "text/plain": [
       "1"
      ]
     },
     "execution_count": 26,
     "metadata": {},
     "output_type": "execute_result"
    }
   ],
   "source": [
    "#Lets pretend bacon has the list [3.14, 'cat', 11, 'cat', True] for the next three questions.\n",
    "bacon=[3.14, 'cat', 11, 'cat', True]\n",
    "#6. What is the value of bacon.index('cat')?\n",
    "bacon.index('cat')\n",
    "\n",
    "\n"
   ]
  },
  {
   "cell_type": "code",
   "execution_count": 30,
   "id": "098fa175",
   "metadata": {},
   "outputs": [
    {
     "name": "stdout",
     "output_type": "stream",
     "text": [
      "[3.14, 'cat', 11, 'cat', True, 99]\n"
     ]
    }
   ],
   "source": [
    "#7. How does bacon.append(99) change the look of the list value in bacon?\n",
    "bacon=[3.14, 'cat', 11, 'cat', True]\n",
    "bacon.append(99)\n",
    "print(bacon)\n"
   ]
  },
  {
   "cell_type": "code",
   "execution_count": 31,
   "id": "944c79e6",
   "metadata": {},
   "outputs": [
    {
     "name": "stdout",
     "output_type": "stream",
     "text": [
      "[3.14, 11, 'cat', True]\n"
     ]
    }
   ],
   "source": [
    "#8. How does bacon.remove('cat') change the look of the list in bacon?\n",
    "\n",
    "bacon=[3.14, 'cat', 11, 'cat', True]\n",
    "bacon.remove('cat')\n",
    "print(bacon)"
   ]
  },
  {
   "cell_type": "raw",
   "id": "e5da7ecc",
   "metadata": {},
   "source": [
    "#9. What are the list concatenation and list replication operators?\n",
    "list concatenation= it means add two list\n",
    "list replication= it means multiple \n"
   ]
  },
  {
   "cell_type": "code",
   "execution_count": 34,
   "id": "27850816",
   "metadata": {},
   "outputs": [
    {
     "name": "stdout",
     "output_type": "stream",
     "text": [
      "[2, 3, 4, 5, 6, 7]\n",
      "[2, 3, 4, 2, 3, 4, 2, 3, 4]\n"
     ]
    }
   ],
   "source": [
    "a=[2,3,4]\n",
    "b=[5,6,7]\n",
    "c=a+b\n",
    "d=a*3\n",
    "print(c)\n",
    "print(d)"
   ]
  },
  {
   "cell_type": "raw",
   "id": "6aebae59",
   "metadata": {},
   "source": [
    "#10. What is difference between the list methods append() and insert()?\n",
    "Answer=Append()is used to when we want to append any element in the last of any list.\n",
    "Insert()=it is used to insert a element in any place in the list\n"
   ]
  },
  {
   "cell_type": "code",
   "execution_count": 39,
   "id": "dbb9aab0",
   "metadata": {},
   "outputs": [
    {
     "name": "stdout",
     "output_type": "stream",
     "text": [
      "[4, 3, 2, 5, 6, 7, 'vishal']\n"
     ]
    }
   ],
   "source": [
    "a=[4,3,2,5,6,7]\n",
    "a.append('vishal')\n",
    "print(a)"
   ]
  },
  {
   "cell_type": "code",
   "execution_count": 40,
   "id": "3300825b",
   "metadata": {},
   "outputs": [
    {
     "name": "stdout",
     "output_type": "stream",
     "text": [
      "[2, 'impressive', 3, 4, 5, 6]\n"
     ]
    }
   ],
   "source": [
    "a=[2,3,4,5,6]\n",
    "a.insert(1,'impressive')\n",
    "print(a)"
   ]
  },
  {
   "cell_type": "code",
   "execution_count": 42,
   "id": "64e2bd9d",
   "metadata": {},
   "outputs": [
    {
     "name": "stdout",
     "output_type": "stream",
     "text": [
      "[4, 3, 5, 6, 7]\n"
     ]
    }
   ],
   "source": [
    "#11. What are the two methods for removing items from a list?\n",
    "a=[4,3,2,5,6,7]\n",
    "a.pop(2)\n",
    "print(a)"
   ]
  },
  {
   "cell_type": "code",
   "execution_count": 45,
   "id": "7c2b6176",
   "metadata": {},
   "outputs": [
    {
     "name": "stdout",
     "output_type": "stream",
     "text": [
      "[2, 3, 5, 6]\n"
     ]
    }
   ],
   "source": [
    "a=[2,3,4,5,6]\n",
    "del a[2]\n",
    "print(a)"
   ]
  },
  {
   "cell_type": "raw",
   "id": "fcd68743",
   "metadata": {},
   "source": [
    "12. Describe how list values and string values are identical.\n",
    "Answer= Lists and Strings in Python is that both are sequences. The differences between them are that firstly, Lists are mutable but Strings are immutable. Secondly, elements of a list can be of different types whereas a String only contains characters that are all of String type.\n"
   ]
  },
  {
   "cell_type": "raw",
   "id": "1a068880",
   "metadata": {},
   "source": [
    "13. What are the difference between tuples and lists?\n",
    "Answer=tuples---->tuples are immutable because we cannot change item in the tuple.tuple is denoted by bracket()\n",
    "       List----> List is mutable because we can change any element in the list.list is denoted by square bracket[]\n"
   ]
  },
  {
   "cell_type": "code",
   "execution_count": 9,
   "id": "09b44ae4",
   "metadata": {},
   "outputs": [
    {
     "data": {
      "text/plain": [
       "tuple"
      ]
     },
     "execution_count": 9,
     "metadata": {},
     "output_type": "execute_result"
    }
   ],
   "source": [
    "#14. How do you type a tuple value that only contains the integer 42?\n",
    "t=tuple(['42'])\n",
    "type(t)"
   ]
  },
  {
   "cell_type": "code",
   "execution_count": 2,
   "id": "56015e24",
   "metadata": {},
   "outputs": [
    {
     "data": {
      "text/plain": [
       "(2, 3, 4, 5)"
      ]
     },
     "execution_count": 2,
     "metadata": {},
     "output_type": "execute_result"
    }
   ],
   "source": [
    "#15. How do you get a list values tuple form? How do you get a tuple values list form?\n",
    "l=[2,3,4,5]\n",
    "tuple(l)"
   ]
  },
  {
   "cell_type": "code",
   "execution_count": 3,
   "id": "a1a9bb4b",
   "metadata": {},
   "outputs": [
    {
     "data": {
      "text/plain": [
       "[2, 4, 5, 6, 3, 2]"
      ]
     },
     "execution_count": 3,
     "metadata": {},
     "output_type": "execute_result"
    }
   ],
   "source": [
    "t=(2,4,5,6,3,2)\n",
    "list(t)"
   ]
  },
  {
   "cell_type": "raw",
   "id": "8405c888",
   "metadata": {},
   "source": [
    "'''16. Variables that'contain' list values are not necessarily lists themselves. Instead, what do they\n",
    "contain?'''\n",
    "Answer=element of the list\n"
   ]
  },
  {
   "cell_type": "raw",
   "id": "b07bf0a0",
   "metadata": {},
   "source": [
    "#17. How do you distinguish between copy.copy() and copy.deepcopy()?\n",
    "Answer=The copy() returns a shallow copy of the list, and deepcopy() returns a deep copy of the list.\n"
   ]
  },
  {
   "cell_type": "code",
   "execution_count": 11,
   "id": "a9fdf6f2",
   "metadata": {},
   "outputs": [
    {
     "name": "stdout",
     "output_type": "stream",
     "text": [
      "li2 Value:  [1, 2, [3, 5], 4]\n",
      "li3 Value:  [1, 2, [3, 5], 4]\n"
     ]
    }
   ],
   "source": [
    "import copy\n",
    " \n",
    "\n",
    "li1 = [1, 2, [3, 5], 4]\n",
    "\n",
    "li2 = copy.copy(li1)\n",
    "\n",
    "print(\"li2\" , \"Value: \", li2)\n",
    "\n",
    "li3 = copy.deepcopy(li1)\n",
    "\n",
    "print(\"li3\",\"Value: \", li3)"
   ]
  },
  {
   "cell_type": "code",
   "execution_count": null,
   "id": "8ad379fb",
   "metadata": {},
   "outputs": [],
   "source": []
  }
 ],
 "metadata": {
  "kernelspec": {
   "display_name": "Python 3 (ipykernel)",
   "language": "python",
   "name": "python3"
  },
  "language_info": {
   "codemirror_mode": {
    "name": "ipython",
    "version": 3
   },
   "file_extension": ".py",
   "mimetype": "text/x-python",
   "name": "python",
   "nbconvert_exporter": "python",
   "pygments_lexer": "ipython3",
   "version": "3.9.12"
  }
 },
 "nbformat": 4,
 "nbformat_minor": 5
}
