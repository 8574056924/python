{
 "cells": [
  {
   "cell_type": "markdown",
   "id": "b53be4c2",
   "metadata": {},
   "source": [
    "# 1. In what modes should the PdfFileReader() and PdfFileWriter() File objects will be opened?\n"
   ]
  },
  {
   "cell_type": "code",
   "execution_count": 3,
   "id": "55d7099b",
   "metadata": {},
   "outputs": [
    {
     "name": "stdout",
     "output_type": "stream",
     "text": [
      "Requirement already satisfied: PyPDF2 in c:\\users\\visha\\anaconda3\\lib\\site-packages (3.0.1)\n",
      "Requirement already satisfied: typing_extensions>=3.10.0.0 in c:\\users\\visha\\anaconda3\\lib\\site-packages (from PyPDF2) (4.1.1)\n"
     ]
    }
   ],
   "source": [
    "!pip install PyPDF2"
   ]
  },
  {
   "cell_type": "markdown",
   "id": "efdcdf39",
   "metadata": {},
   "source": [
    "# 2. From a PdfFileReader object, how do you get a Page object for page 5?"
   ]
  },
  {
   "cell_type": "code",
   "execution_count": null,
   "id": "95a5dfd4",
   "metadata": {},
   "outputs": [],
   "source": [
    "import PyPDF2\n",
    "with open('newfile.pdf', 'rb') as file:\n",
    "    pdf_reader = PyPDF2.PdfFileReader(file)\n",
    "    page_5 = pdf_reader.getPage(4)"
   ]
  },
  {
   "cell_type": "markdown",
   "id": "fd8d6bd9",
   "metadata": {},
   "source": [
    "# 3. What PdfFileReader variable stores the number of pages in the PDF document?"
   ]
  },
  {
   "cell_type": "code",
   "execution_count": null,
   "id": "fe429581",
   "metadata": {},
   "outputs": [],
   "source": [
    "import PyPDF2\n",
    "\n",
    "with open('newfile.pdf', 'rb') as file:\n",
    "    pdf_reader = PyPDF2.PdfFileReader(file)\n",
    "    num_pages = pdf_reader.numPages\n",
    "\n",
    "print(f'The PDF document has {num_pages} pages.')"
   ]
  },
  {
   "cell_type": "markdown",
   "id": "8c85596e",
   "metadata": {},
   "source": [
    "# 4. If a PdfFileReader object’s PDF is encrypted with the password swordfish, what must you do before you can obtain Page objects from it?"
   ]
  },
  {
   "cell_type": "code",
   "execution_count": null,
   "id": "bd4cf45b",
   "metadata": {},
   "outputs": [],
   "source": [
    "import PyPDF2\n",
    "\n",
    "with open('newfile.pdf', 'rb') as file:\n",
    "    pdf_reader = PyPDF2.PdfFileReader(file)\n",
    "    pdf_reader.decrypt('swordfish')\n",
    "    num_pages = pdf_reader.numPages\n",
    "    for page_num in range(num_pages):\n",
    "        page = pdf_reader.getPage(page_num)\n",
    "        page_text = page.extractText()\n",
    "        print(f'Text on page {page_num + 1}: {page_text}')"
   ]
  },
  {
   "cell_type": "markdown",
   "id": "c95c7369",
   "metadata": {},
   "source": [
    "# 5. What methods do you use to rotate a page?\n",
    "\n",
    "Answer = rotateClockwise() and rotateCounterClockwise()."
   ]
  },
  {
   "cell_type": "markdown",
   "id": "43d59911",
   "metadata": {},
   "source": [
    "# 6. What is the difference between a Run object and a Paragraph object?\n",
    "\n",
    "Answer = Paragraph object--> A Paragraph object in the python-docx library represents a single paragraph of text in a Word document.\n",
    "\n",
    "Run Object--> A Run object in the python-docx library represents a contiguous run of characters in a paragraph with the same character style. \n"
   ]
  },
  {
   "cell_type": "markdown",
   "id": "8a4e0e9c",
   "metadata": {},
   "source": [
    "# 7. How do you obtain a list of Paragraph objects for a Document object that’s stored in a variable named doc?"
   ]
  },
  {
   "cell_type": "code",
   "execution_count": null,
   "id": "842a83be",
   "metadata": {},
   "outputs": [],
   "source": [
    "import docx\n",
    "doc = docx.Document('cousre.docx')\n",
    "paragraphs = doc.paragraphs\n",
    "for paragraph in paragraphs:\n",
    "    print(paragraph.text)"
   ]
  },
  {
   "cell_type": "markdown",
   "id": "d8d95eae",
   "metadata": {},
   "source": [
    "# 8. What type of object has bold, underline, italic, strike, and outline variables?\n",
    "Answer =  the Run object has bold, underline, italic, strike, and outline variables."
   ]
  },
  {
   "cell_type": "markdown",
   "id": "7a6108a8",
   "metadata": {},
   "source": [
    "# 9. What is the difference between False, True, and None for the bold variable?\n",
    "Answer = If bold is True, the text represented by the Run object will be bold.\n",
    "If bold is False, the text represented by the Run object will not be bold, even if it was previously bolded.\n",
    "If bold is None, the text represented by the Run object will inherit the bold formatting of the containing paragraph."
   ]
  },
  {
   "cell_type": "markdown",
   "id": "8635c253",
   "metadata": {},
   "source": [
    "# 10. How do you create a Document object for a new Word document?\n"
   ]
  },
  {
   "cell_type": "code",
   "execution_count": null,
   "id": "eead28d8",
   "metadata": {},
   "outputs": [],
   "source": [
    "import docx\n",
    "doc = docx.Document()\n",
    "paragraph = doc.add_paragraph('This is a new document.')\n",
    "doc.save('new_document.docx')"
   ]
  },
  {
   "cell_type": "markdown",
   "id": "e91132b7",
   "metadata": {},
   "source": [
    "# 11. How do you add a paragraph with the text 'Hello, there' to a Document object stored in a variable named doc?\n"
   ]
  },
  {
   "cell_type": "code",
   "execution_count": null,
   "id": "1e2df1e5",
   "metadata": {},
   "outputs": [],
   "source": [
    "import docx\n",
    "doc = docx.Document('example.docx')\n",
    "paragraph = doc.add_paragraph('Hello, there!')\n",
    "doc.save('modified.docx')"
   ]
  },
  {
   "cell_type": "markdown",
   "id": "80f19981",
   "metadata": {},
   "source": [
    "# 12. What integers represent the levels of headings available in Word documents?\n",
    "\n",
    "Answer-->The integer values of these levels are 1 through 6, respectively. In the python-docx library for Python, you can specify the level of a heading by setting the heading_level attribute of a Paragraph object to the desired integer value. "
   ]
  },
  {
   "cell_type": "code",
   "execution_count": null,
   "id": "e75df598",
   "metadata": {},
   "outputs": [],
   "source": []
  }
 ],
 "metadata": {
  "kernelspec": {
   "display_name": "Python 3 (ipykernel)",
   "language": "python",
   "name": "python3"
  },
  "language_info": {
   "codemirror_mode": {
    "name": "ipython",
    "version": 3
   },
   "file_extension": ".py",
   "mimetype": "text/x-python",
   "name": "python",
   "nbconvert_exporter": "python",
   "pygments_lexer": "ipython3",
   "version": "3.9.12"
  }
 },
 "nbformat": 4,
 "nbformat_minor": 5
}
