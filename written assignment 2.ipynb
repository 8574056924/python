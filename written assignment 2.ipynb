{
 "cells": [
  {
   "cell_type": "raw",
   "id": "79bd28d0",
   "metadata": {},
   "source": [
    "#1.What are the two values of the Boolean data type? How do you write them?\n",
    "Answer=There are two type of boolean data type True and False.'T' of True must be capital letter and 'F' of False must be capital letter in python program.   \n"
   ]
  },
  {
   "cell_type": "code",
   "execution_count": 8,
   "id": "c726ac64",
   "metadata": {},
   "outputs": [
    {
     "name": "stdout",
     "output_type": "stream",
     "text": [
      "False\n"
     ]
    }
   ],
   "source": [
    "a=[1,2,3,4,5]\n",
    "b=[1]\n",
    "print(a is b)"
   ]
  },
  {
   "cell_type": "code",
   "execution_count": null,
   "id": "ecbab259",
   "metadata": {},
   "outputs": [],
   "source": [
    "#2. What are the three different types of Boolean operators?\n",
    "Answer=three types of boolean operators are\n",
    "AND \n",
    "OR\n",
    "NOT"
   ]
  },
  {
   "cell_type": "raw",
   "id": "9e8d0e1a",
   "metadata": {},
   "source": [
    "'''3. Make a list of each Boolean operators truth tables (i.e. every possible combination of Boolean\n",
    "values for the operator and what it evaluate ).'''\n",
    "Answer=1.OR \n",
    "       2.AND\n",
    "       3.NAND\n",
    "       4.NOR\n",
    "       5.XOR\n",
    "      \n",
    " P Q AND OR NAND NOR XOR CONDITIONAL\n",
    " T T  T   T  F    F   F     T          \n",
    " T F  F   T  T    F   T     F\n",
    " F T  F   T  T    F   T     T\n",
    " F F  F   F  T    T   F     T\n",
    " "
   ]
  },
  {
   "cell_type": "code",
   "execution_count": 10,
   "id": "ece1cca4",
   "metadata": {},
   "outputs": [
    {
     "data": {
      "text/plain": [
       "False"
      ]
     },
     "execution_count": 10,
     "metadata": {},
     "output_type": "execute_result"
    }
   ],
   "source": [
    "'''4. What are the values of the following expressions?\n",
    "(5 > 4) and (3 == 5)\n",
    "not (5 > 4)\n",
    "(5 > 4) or (3 == 5)\n",
    "not ((5 > 4) or (3 == 5))\n",
    "(True and True) and (True == False)\n",
    "(not False) or (not True)'''\n",
    "(5 > 4) and (3 == 5)\n"
   ]
  },
  {
   "cell_type": "code",
   "execution_count": 11,
   "id": "39dc547a",
   "metadata": {},
   "outputs": [
    {
     "data": {
      "text/plain": [
       "False"
      ]
     },
     "execution_count": 11,
     "metadata": {},
     "output_type": "execute_result"
    }
   ],
   "source": [
    "not (5 > 4)\n"
   ]
  },
  {
   "cell_type": "code",
   "execution_count": 12,
   "id": "e63b6ebb",
   "metadata": {},
   "outputs": [
    {
     "data": {
      "text/plain": [
       "True"
      ]
     },
     "execution_count": 12,
     "metadata": {},
     "output_type": "execute_result"
    }
   ],
   "source": [
    "(5 > 4) or (3 == 5)"
   ]
  },
  {
   "cell_type": "code",
   "execution_count": 13,
   "id": "64af2f4c",
   "metadata": {},
   "outputs": [
    {
     "data": {
      "text/plain": [
       "False"
      ]
     },
     "execution_count": 13,
     "metadata": {},
     "output_type": "execute_result"
    }
   ],
   "source": [
    "not ((5 > 4) or (3 == 5))"
   ]
  },
  {
   "cell_type": "code",
   "execution_count": 14,
   "id": "414c6599",
   "metadata": {},
   "outputs": [
    {
     "data": {
      "text/plain": [
       "False"
      ]
     },
     "execution_count": 14,
     "metadata": {},
     "output_type": "execute_result"
    }
   ],
   "source": [
    "(True and True) and (True == False)"
   ]
  },
  {
   "cell_type": "code",
   "execution_count": 15,
   "id": "3143636f",
   "metadata": {},
   "outputs": [
    {
     "data": {
      "text/plain": [
       "True"
      ]
     },
     "execution_count": 15,
     "metadata": {},
     "output_type": "execute_result"
    }
   ],
   "source": [
    "(not False) or (not True)"
   ]
  },
  {
   "cell_type": "raw",
   "id": "fdb5a7e3",
   "metadata": {},
   "source": [
    "#5. What are the six comparison operators?\n",
    "Answer=1.Greater than(>)\n",
    "       2.less than(<)\n",
    "       3.equal(=)\n",
    "       4.Not equal(!=)\n",
    "       5.greater than or equal(>=)\n",
    "       6.less than or equal(<=)"
   ]
  },
  {
   "cell_type": "raw",
   "id": "2d7aded1",
   "metadata": {},
   "source": [
    "#6. How do you tell the difference between the equal to and assignment operators?Describe a\n",
    "condition and when you would use one.\n",
    "Answer= when we tring to any number comparing to other we use the (==).when we tring to assign the value we use only single equal(=)."
   ]
  },
  {
   "cell_type": "code",
   "execution_count": 17,
   "id": "5319fcd2",
   "metadata": {},
   "outputs": [
    {
     "name": "stdout",
     "output_type": "stream",
     "text": [
      "5\n",
      "4\n",
      "Not equal element\n"
     ]
    }
   ],
   "source": [
    "a=int(input())\n",
    "b=int(input())\n",
    "if a==b:\n",
    "    print('equal element')\n",
    "else:\n",
    "    print('Not equal element')\n",
    "'''Here a is the variable for assign the value \n",
    "   and a==b for comparing the variable '''"
   ]
  },
  {
   "cell_type": "code",
   "execution_count": 20,
   "id": "7857d5a0",
   "metadata": {},
   "outputs": [
    {
     "name": "stdout",
     "output_type": "stream",
     "text": [
      "bacon\n"
     ]
    }
   ],
   "source": [
    "#7. Identify the three blocks in this code:\n",
    "spam = 0\n",
    "# first block\n",
    "if spam == 10:\n",
    "    print('eggs')\n",
    "# Second block\n",
    "if spam > 5:\n",
    "    print('bacon')\n",
    "# third block\n",
    "else:\n",
    "    print('ham')\n",
    "    print('spam')\n",
    "    print('spam')"
   ]
  },
  {
   "cell_type": "code",
   "execution_count": 22,
   "id": "f085486c",
   "metadata": {},
   "outputs": [
    {
     "name": "stdout",
     "output_type": "stream",
     "text": [
      "1\n",
      "hello\n"
     ]
    }
   ],
   "source": [
    "'''8. Write code that prints Hello if 1 is stored in spam, prints Howdy if 2 is stored in spam, and prints\n",
    "Greetings! if anything else is stored in spam.'''\n",
    "spam=int(input())\n",
    "if spam==1:\n",
    "    print('hello')\n",
    "elif spam==2:\n",
    "    print('Howdy')\n",
    "else:\n",
    "    print('Greetings')\n",
    "\n"
   ]
  },
  {
   "cell_type": "raw",
   "id": "34410b14",
   "metadata": {},
   "source": [
    "#9.If your programme is stuck in an endless loop, what keys you’ll press?\n",
    "Answer=Ctrl+C,We can also use the break statment."
   ]
  },
  {
   "cell_type": "code",
   "execution_count": 1,
   "id": "3a5ffc6f",
   "metadata": {},
   "outputs": [
    {
     "name": "stdout",
     "output_type": "stream",
     "text": [
      "1 2 3 4 5 7 8 9 10 "
     ]
    }
   ],
   "source": [
    "#10. How can you tell the difference between break and continue?\n",
    "for i in range(1, 11):  \n",
    "    if i == 6: \n",
    "        continue\n",
    "    else: \n",
    "        print(i, end = \" \")\n",
    "    \n",
    "\n"
   ]
  },
  {
   "cell_type": "code",
   "execution_count": 3,
   "id": "8b1196be",
   "metadata": {},
   "outputs": [
    {
     "name": "stdout",
     "output_type": "stream",
     "text": [
      "V\n",
      "i\n",
      "Out of for loop\n",
      "\n"
     ]
    }
   ],
   "source": [
    "#for break statment\n",
    "s = 'Vishal'\n",
    "for letter in s: \n",
    "    \n",
    "    print(letter) \n",
    "    if letter == 'i' or letter == 'a': \n",
    "        break\n",
    "    \n",
    "print(\"Out of for loop\") \n",
    "print() "
   ]
  },
  {
   "cell_type": "code",
   "execution_count": 4,
   "id": "e8bd913b",
   "metadata": {},
   "outputs": [
    {
     "name": "stdout",
     "output_type": "stream",
     "text": [
      "0\n",
      "1\n",
      "2\n",
      "3\n",
      "4\n",
      "5\n",
      "6\n",
      "7\n",
      "8\n",
      "9\n"
     ]
    }
   ],
   "source": [
    "#11. In a for loop, what is the difference between range(10), range(0, 10), and range(0, 10, 1)\n",
    "for i in range(10):\n",
    "    print(i)"
   ]
  },
  {
   "cell_type": "code",
   "execution_count": 5,
   "id": "0d73ffbd",
   "metadata": {},
   "outputs": [
    {
     "name": "stdout",
     "output_type": "stream",
     "text": [
      "0\n",
      "1\n",
      "2\n",
      "3\n",
      "4\n",
      "5\n",
      "6\n",
      "7\n",
      "8\n",
      "9\n"
     ]
    }
   ],
   "source": [
    "for i in range(0,10):\n",
    "    print(i)"
   ]
  },
  {
   "cell_type": "code",
   "execution_count": 8,
   "id": "1c5b5495",
   "metadata": {},
   "outputs": [
    {
     "name": "stdout",
     "output_type": "stream",
     "text": [
      "0\n",
      "1\n",
      "2\n",
      "3\n",
      "4\n",
      "5\n",
      "6\n",
      "7\n",
      "8\n",
      "9\n"
     ]
    }
   ],
   "source": [
    "for i in range(0,10,1):\n",
    "    print(i)"
   ]
  },
  {
   "cell_type": "code",
   "execution_count": 10,
   "id": "0c4f3b17",
   "metadata": {},
   "outputs": [
    {
     "name": "stdout",
     "output_type": "stream",
     "text": [
      "1 2 3 4 5 6 7 8 9 10 "
     ]
    }
   ],
   "source": [
    "'''12. Write a short program that prints the numbers 1 to 10 using a for loop. Then write an equivalent\n",
    "program that prints the numbers 1 to 10 using a while loop.'''\n",
    "for i in range(1,11):\n",
    "    print(i,end=' ')"
   ]
  },
  {
   "cell_type": "code",
   "execution_count": 12,
   "id": "729180cb",
   "metadata": {},
   "outputs": [
    {
     "name": "stdout",
     "output_type": "stream",
     "text": [
      "1 2 3 4 5 6 7 8 9 10 "
     ]
    }
   ],
   "source": [
    "#using while loop\n",
    "i = 1\n",
    "while(i<=10):\n",
    "    print(i,end=' ')\n",
    "    i += 1"
   ]
  },
  {
   "cell_type": "code",
   "execution_count": 2,
   "id": "a39c1888",
   "metadata": {},
   "outputs": [
    {
     "data": {
      "text/plain": [
       "'#13. If you had a function named bacon() inside a module named spam, how would you call it after\\nimporting spam?'"
      ]
     },
     "execution_count": 2,
     "metadata": {},
     "output_type": "execute_result"
    }
   ],
   "source": [
    "'''#13. If you had a function named bacon() inside a module named spam, how would you call it after\n",
    "importing spam?'''\n",
    "spam.bacon()"
   ]
  },
  {
   "cell_type": "code",
   "execution_count": null,
   "id": "7434ab91",
   "metadata": {},
   "outputs": [],
   "source": []
  }
 ],
 "metadata": {
  "kernelspec": {
   "display_name": "Python 3 (ipykernel)",
   "language": "python",
   "name": "python3"
  },
  "language_info": {
   "codemirror_mode": {
    "name": "ipython",
    "version": 3
   },
   "file_extension": ".py",
   "mimetype": "text/x-python",
   "name": "python",
   "nbconvert_exporter": "python",
   "pygments_lexer": "ipython3",
   "version": "3.9.12"
  }
 },
 "nbformat": 4,
 "nbformat_minor": 5
}
