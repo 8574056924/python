{
 "cells": [
  {
   "cell_type": "code",
   "execution_count": 3,
   "id": "6f99d990",
   "metadata": {},
   "outputs": [],
   "source": [
    "#1. Write a Python program to find sum of elements in list?\n",
    "def list_number(l):\n",
    "    sum = 0\n",
    "    for i in l:\n",
    "        sum = sum+i\n",
    "    return sum"
   ]
  },
  {
   "cell_type": "code",
   "execution_count": 4,
   "id": "1906d1a2",
   "metadata": {},
   "outputs": [
    {
     "data": {
      "text/plain": [
       "15"
      ]
     },
     "execution_count": 4,
     "metadata": {},
     "output_type": "execute_result"
    }
   ],
   "source": [
    "list_number([1,2,3,4,5])"
   ]
  },
  {
   "cell_type": "code",
   "execution_count": 5,
   "id": "e3f93391",
   "metadata": {},
   "outputs": [],
   "source": [
    "#2. Write a Python program to Multiply all numbers in the list?\n",
    "def mult_list(l):\n",
    "    mult = 1\n",
    "    for i in l:\n",
    "         mult = mult*i\n",
    "    return mult"
   ]
  },
  {
   "cell_type": "code",
   "execution_count": 6,
   "id": "397a300d",
   "metadata": {},
   "outputs": [
    {
     "data": {
      "text/plain": [
       "120"
      ]
     },
     "execution_count": 6,
     "metadata": {},
     "output_type": "execute_result"
    }
   ],
   "source": [
    "mult_list([2,3,4,5])"
   ]
  },
  {
   "cell_type": "code",
   "execution_count": 18,
   "id": "f3b13335",
   "metadata": {},
   "outputs": [
    {
     "name": "stdout",
     "output_type": "stream",
     "text": [
      "Smallest element is: 2\n"
     ]
    }
   ],
   "source": [
    "#3. Write a Python program to find smallest number in a list?\n",
    "def find_len(list1):\n",
    "    length = len(list1)\n",
    "    list1.sort()\n",
    "    print(\"Smallest element is:\", list1[0])\n",
    "\n",
    "list1=[12, 45, 2, 41, 31, 10, 8, 6, 4]\n",
    "smallest = find_len(list1)\n",
    "    \n",
    "    "
   ]
  },
  {
   "cell_type": "code",
   "execution_count": 4,
   "id": "35bffa80",
   "metadata": {},
   "outputs": [
    {
     "name": "stdout",
     "output_type": "stream",
     "text": [
      "largest element is 24\n"
     ]
    }
   ],
   "source": [
    "#4. Write a Python program to find largest number in a list?\n",
    "def largest_number(l):\n",
    "    length = len(l)\n",
    "    l.sort()\n",
    "    print('largest element is',l[length-1])\n",
    "l = [22,5,4,6,24]\n",
    "largest = largest_number(l)\n",
    "\n"
   ]
  },
  {
   "cell_type": "code",
   "execution_count": 6,
   "id": "b151cd1d",
   "metadata": {},
   "outputs": [
    {
     "name": "stdout",
     "output_type": "stream",
     "text": [
      "second largest element is 90\n"
     ]
    }
   ],
   "source": [
    "#Write a Python program to find second largest number in a list?\n",
    "def second_largest(l):\n",
    "    length = len(l)\n",
    "    l.sort()\n",
    "    print(\"second largest element is\",l[length-2])\n",
    "l = [80,90,105,2,8,4]\n",
    "element = second_largest(l)\n"
   ]
  },
  {
   "cell_type": "code",
   "execution_count": 3,
   "id": "f431ec2e",
   "metadata": {},
   "outputs": [
    {
     "name": "stdout",
     "output_type": "stream",
     "text": [
      "enter a range4\n",
      "18\n",
      "17\n",
      "16\n",
      "15\n"
     ]
    }
   ],
   "source": [
    "#Write a Python program to find N largest elements from a list?\n",
    "arr = [12,3,4,14,16,18,17,15,6]\n",
    "arr1 = sorted(arr,key=int)\n",
    "def n_large(i):\n",
    "    a = -1\n",
    "    for i in range(0,n):\n",
    "        print(arr1[a])\n",
    "        a = a-1\n",
    "n = int(input('enter a range'))\n",
    "n_large(n)\n"
   ]
  },
  {
   "cell_type": "code",
   "execution_count": 3,
   "id": "d2029b7e",
   "metadata": {},
   "outputs": [
    {
     "name": "stdout",
     "output_type": "stream",
     "text": [
      "32 36 40 "
     ]
    }
   ],
   "source": [
    "#7. Write a Python program to print even numbers in a list?\n",
    "l=[32,35,36,55,39,40]\n",
    "for i in l :\n",
    "    if i%2==0:\n",
    "        print(i,end = \" \")\n",
    "        \n",
    "        "
   ]
  },
  {
   "cell_type": "code",
   "execution_count": 10,
   "id": "3f84297e",
   "metadata": {},
   "outputs": [
    {
     "name": "stdout",
     "output_type": "stream",
     "text": [
      "35 55 39 "
     ]
    }
   ],
   "source": [
    "#8. Write a Python program to print odd numbers in a List?\n",
    "l=[32,35,36,55,39,40]\n",
    "for i in l:\n",
    "    if i%2!=0:\n",
    "        print(i,end = \" \")\n"
   ]
  },
  {
   "cell_type": "code",
   "execution_count": 2,
   "id": "16fab88a",
   "metadata": {},
   "outputs": [
    {
     "name": "stdout",
     "output_type": "stream",
     "text": [
      "The original list is : [6, 4, [], 2, [], [], 8]\n",
      "List after empty list removal : [6, 4, 2, 8]\n"
     ]
    }
   ],
   "source": [
    "#9. Write a Python program to Remove empty List from List?\n",
    "test_list = [6, 4, [], 2, [], [], 8]\n",
    " \n",
    "print(\"The original list is : \" + str(test_list))\n",
    " \n",
    "res = list(filter(None, test_list))\n",
    " \n",
    "print(\"List after empty list removal : \" + str(res))\n",
    "\n",
    "\n"
   ]
  },
  {
   "cell_type": "code",
   "execution_count": 4,
   "id": "57f19352",
   "metadata": {},
   "outputs": [
    {
     "name": "stdout",
     "output_type": "stream",
     "text": [
      "Original List: [4, 8, 2, 10, 15, 18]\n",
      "After Cloning: [4, 8, 2, 10, 15, 18]\n"
     ]
    }
   ],
   "source": [
    "#Write a Python program to Cloning or Copying a list?\n",
    "def Cloning(l):\n",
    "    l1_copy = []\n",
    "    l1_copy.extend(l)\n",
    "    return l1_copy\n",
    " \n",
    "    \n",
    "l = [4, 8, 2, 10, 15, 18]\n",
    "l1 = Cloning(l)\n",
    "print(\"Original List:\", l)\n",
    "print(\"After Cloning:\", l1)\n"
   ]
  },
  {
   "cell_type": "code",
   "execution_count": 5,
   "id": "418e9e07",
   "metadata": {},
   "outputs": [
    {
     "name": "stdout",
     "output_type": "stream",
     "text": [
      "8 has occurred 5 times\n"
     ]
    }
   ],
   "source": [
    "#11. Write a Python program to Count occurrences of an element in a list?\n",
    "def countX(lst, x):\n",
    "    count = 0\n",
    "    for ele in lst:\n",
    "        if (ele == x):\n",
    "            count = count + 1\n",
    "    return count\n",
    " \n",
    " \n",
    "lst = [8, 6, 8, 10, 8, 20, 10, 8, 8]\n",
    "x = 8\n",
    "print('{} has occurred {} times'.format(x,countX(lst, x)))\n"
   ]
  },
  {
   "cell_type": "code",
   "execution_count": null,
   "id": "94fd6268",
   "metadata": {},
   "outputs": [],
   "source": []
  }
 ],
 "metadata": {
  "kernelspec": {
   "display_name": "Python 3 (ipykernel)",
   "language": "python",
   "name": "python3"
  },
  "language_info": {
   "codemirror_mode": {
    "name": "ipython",
    "version": 3
   },
   "file_extension": ".py",
   "mimetype": "text/x-python",
   "name": "python",
   "nbconvert_exporter": "python",
   "pygments_lexer": "ipython3",
   "version": "3.9.12"
  }
 },
 "nbformat": 4,
 "nbformat_minor": 5
}
