{
 "cells": [
  {
   "cell_type": "code",
   "execution_count": 7,
   "id": "221bedb4",
   "metadata": {},
   "outputs": [
    {
     "name": "stdout",
     "output_type": "stream",
     "text": [
      "0 1 1 2 3 5 8 "
     ]
    }
   ],
   "source": [
    "#1. Write a Python Program to Display Fibonacci Sequence Using Recursion?\n",
    "def fibonacci(n):\n",
    "    if n==0:\n",
    "        return 0\n",
    "    elif n==1:\n",
    "        return 1\n",
    "    else:\n",
    "        return fibonacci(n-1)+fibonacci(n-2)\n",
    "for i in range(7):\n",
    "    print(fibonacci(i),end=' ')"
   ]
  },
  {
   "cell_type": "code",
   "execution_count": 3,
   "id": "3cb76e72",
   "metadata": {},
   "outputs": [
    {
     "name": "stdout",
     "output_type": "stream",
     "text": [
      "factoroal of 5 is 120\n"
     ]
    }
   ],
   "source": [
    "#2. Write a Python Program to Find Factorial of Number Using Recursion?\n",
    "def fact(n):\n",
    "    if n==0:\n",
    "        return 1\n",
    "    elif n==1:\n",
    "        return 1\n",
    "    else:\n",
    "        return (n*fact(n-1))\n",
    "num=5\n",
    "print(f'factoroal of {num} is {fact(num)}')"
   ]
  },
  {
   "cell_type": "code",
   "execution_count": 5,
   "id": "ee4db8eb",
   "metadata": {},
   "outputs": [
    {
     "data": {
      "text/plain": [
       "6"
      ]
     },
     "execution_count": 5,
     "metadata": {},
     "output_type": "execute_result"
    }
   ],
   "source": [
    "fact(3)"
   ]
  },
  {
   "cell_type": "code",
   "execution_count": 7,
   "id": "0b5bce46",
   "metadata": {},
   "outputs": [
    {
     "name": "stdout",
     "output_type": "stream",
     "text": [
      "enter yoyr height5.6\n",
      "enter your weight59.5\n",
      "Your BMI is:  1.9\n"
     ]
    }
   ],
   "source": [
    "#Write a Python Program to calculate your Body Mass Index?\n",
    "height=float(input('enter yoyr height'))\n",
    "weight=float(input('enter your weight'))\n",
    "print(\"Your BMI is: \", round(weight / (height * height), 2))\n",
    "    "
   ]
  },
  {
   "cell_type": "code",
   "execution_count": 11,
   "id": "2a3ededd",
   "metadata": {},
   "outputs": [
    {
     "data": {
      "text/plain": [
       "1.0"
      ]
     },
     "execution_count": 11,
     "metadata": {},
     "output_type": "execute_result"
    }
   ],
   "source": [
    "#4. Write a Python Program to calculate the natural logarithm of any number?\n",
    "import math\n",
    "math.e\n",
    "e = math.e\n",
    "math.log(e)"
   ]
  },
  {
   "cell_type": "code",
   "execution_count": 30,
   "id": "db604258",
   "metadata": {},
   "outputs": [
    {
     "name": "stdout",
     "output_type": "stream",
     "text": [
      "Enter range of natural number6\n",
      "1 total is 1\n",
      "8 total is 9\n",
      "27 total is 36\n",
      "64 total is 100\n",
      "125 total is 225\n"
     ]
    }
   ],
   "source": [
    "#5. Write a Python Program for cube sum of first n natural numbers?\n",
    "n=int(input(\"Enter range of natural number\"))\n",
    "sum=0\n",
    "for i in range(1,n):\n",
    "    sum=sum+i**3\n",
    "    print(f'{i**3} total is {sum}')\n",
    "    "
   ]
  },
  {
   "cell_type": "code",
   "execution_count": null,
   "id": "33bb3964",
   "metadata": {},
   "outputs": [],
   "source": []
  }
 ],
 "metadata": {
  "kernelspec": {
   "display_name": "Python 3 (ipykernel)",
   "language": "python",
   "name": "python3"
  },
  "language_info": {
   "codemirror_mode": {
    "name": "ipython",
    "version": 3
   },
   "file_extension": ".py",
   "mimetype": "text/x-python",
   "name": "python",
   "nbconvert_exporter": "python",
   "pygments_lexer": "ipython3",
   "version": "3.9.12"
  }
 },
 "nbformat": 4,
 "nbformat_minor": 5
}
