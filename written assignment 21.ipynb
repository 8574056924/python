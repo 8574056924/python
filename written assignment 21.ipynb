{
 "cells": [
  {
   "cell_type": "markdown",
   "id": "cabebfd0",
   "metadata": {},
   "source": [
    "# 1. Add the current date to the text file today.txt as a string."
   ]
  },
  {
   "cell_type": "code",
   "execution_count": 1,
   "id": "0079af56",
   "metadata": {},
   "outputs": [],
   "source": [
    "import datetime\n",
    "\n",
    "today = str(datetime.date.today())\n",
    "\n",
    "with open('today.txt', 'w') as file:\n",
    "    file.write(today)"
   ]
  },
  {
   "cell_type": "markdown",
   "id": "6207c868",
   "metadata": {},
   "source": [
    "# 2. Read the text file today.txt into the string today_string"
   ]
  },
  {
   "cell_type": "code",
   "execution_count": 2,
   "id": "bda026f2",
   "metadata": {},
   "outputs": [
    {
     "data": {
      "text/plain": [
       "'2023-05-13'"
      ]
     },
     "execution_count": 2,
     "metadata": {},
     "output_type": "execute_result"
    }
   ],
   "source": [
    "with open('today.txt','r') as file:\n",
    "    today_string = file.read()\n",
    "today_string"
   ]
  },
  {
   "cell_type": "markdown",
   "id": "7a4c1e10",
   "metadata": {},
   "source": [
    "# 3. Parse the date from today_string."
   ]
  },
  {
   "cell_type": "code",
   "execution_count": 3,
   "id": "19a1f765",
   "metadata": {},
   "outputs": [
    {
     "data": {
      "text/plain": [
       "datetime.datetime(2023, 5, 13, 0, 0)"
      ]
     },
     "execution_count": 3,
     "metadata": {},
     "output_type": "execute_result"
    }
   ],
   "source": [
    "from datetime import datetime\n",
    "format = '%Y-%m-%d'\n",
    "datetime.strptime(today_string,format)"
   ]
  },
  {
   "cell_type": "markdown",
   "id": "fc541418",
   "metadata": {},
   "source": [
    "# 4. List the files in your current directory"
   ]
  },
  {
   "cell_type": "code",
   "execution_count": 4,
   "id": "15f4f39e",
   "metadata": {},
   "outputs": [
    {
     "data": {
      "text/plain": [
       "['.anaconda',\n",
       " '.conda',\n",
       " '.condarc',\n",
       " '.continuum',\n",
       " '.cufflinks',\n",
       " '.ipynb_checkpoints',\n",
       " '.ipython',\n",
       " '.jupyter',\n",
       " '.Ld2VirtualBox',\n",
       " '.matplotlib',\n",
       " '.vscode',\n",
       " '.vscode-cli',\n",
       " 'addresses.csv',\n",
       " 'all files of python',\n",
       " 'alok.ipynb',\n",
       " 'anaconda3',\n",
       " 'AppData',\n",
       " 'Application Data',\n",
       " 'books.csv',\n",
       " 'books.db',\n",
       " 'Contacts',\n",
       " 'Cookies',\n",
       " 'course1.pdf',\n",
       " 'course10.pdf',\n",
       " 'course11.pdf',\n",
       " 'course12.pdf',\n",
       " 'course13.pdf',\n",
       " 'course14.pdf',\n",
       " 'course15.pdf',\n",
       " 'course16.pdf',\n",
       " 'course17.pdf',\n",
       " 'course18.pdf',\n",
       " 'course19.pdf',\n",
       " 'course2.pdf',\n",
       " 'course20.pdf',\n",
       " 'course21.pdf',\n",
       " 'course22.pdf',\n",
       " 'course3.pdf',\n",
       " 'course4.pdf',\n",
       " 'course5.pdf',\n",
       " 'course6.pdf',\n",
       " 'course7.pdf',\n",
       " 'course8.pdf',\n",
       " 'course9.pdf',\n",
       " 'cousre10.pdf',\n",
       " 'cousre11.pdf',\n",
       " 'cousre12.pdf',\n",
       " 'cousre13.pdf',\n",
       " 'cousre14.pdf',\n",
       " 'cousre15.pdf',\n",
       " 'cousre16.pdf',\n",
       " 'cousre17.pdf',\n",
       " 'cousre18.pdf',\n",
       " 'cousre19.pdf',\n",
       " 'cousre2.pdf',\n",
       " 'cousre20.pdf',\n",
       " 'cousre21.pdf',\n",
       " 'cousre22.pdf',\n",
       " 'cousre3.pdf',\n",
       " 'cousre4.pdf',\n",
       " 'cousre5.pdf',\n",
       " 'cousre6.pdf',\n",
       " 'cousre7.pdf',\n",
       " 'cousre8.pdf',\n",
       " 'cousre9.pdf',\n",
       " 'Documents',\n",
       " 'Downloads',\n",
       " 'Favorites',\n",
       " 'flipkart scrapping.ipynb',\n",
       " 'ineuron scrapping (1).ipynb',\n",
       " 'IntelGraphicsProfiles',\n",
       " 'Links',\n",
       " 'Local Settings',\n",
       " 'merged_2_pages.pdf',\n",
       " 'Music',\n",
       " 'My Documents',\n",
       " 'NetHood',\n",
       " 'newfile.pdf',\n",
       " 'nokia.csv',\n",
       " 'NTUSER.DAT',\n",
       " 'ntuser.dat.LOG1',\n",
       " 'ntuser.dat.LOG2',\n",
       " 'NTUSER.DAT{a2332f18-cdbf-11ec-8680-002248483d79}.TM.blf',\n",
       " 'NTUSER.DAT{a2332f18-cdbf-11ec-8680-002248483d79}.TMContainer00000000000000000001.regtrans-ms',\n",
       " 'NTUSER.DAT{a2332f18-cdbf-11ec-8680-002248483d79}.TMContainer00000000000000000002.regtrans-ms',\n",
       " 'ntuser.ini',\n",
       " 'OneDrive',\n",
       " 'Postman',\n",
       " 'PrintHood',\n",
       " 'Programming Assignment 10.ipynb',\n",
       " 'programming assignment 11.ipynb',\n",
       " 'programming assignment 9.ipynb',\n",
       " 'PycharmProjects',\n",
       " 'randomFolder',\n",
       " 'Recent',\n",
       " 'review project.ipynb',\n",
       " 'Saved Games',\n",
       " 'seaborn-data',\n",
       " 'Searches',\n",
       " 'selectiveFolder',\n",
       " 'SendTo',\n",
       " 'Start Menu',\n",
       " 'Statics.ipynb',\n",
       " 'Templates',\n",
       " 'test.txt',\n",
       " 'today.txt',\n",
       " 'Untitled.ipynb',\n",
       " 'Videos',\n",
       " 'vikas.ipynb',\n",
       " 'written assignment 10.ipynb',\n",
       " 'written assignment 11.ipynb',\n",
       " 'written assignment 12.ipynb',\n",
       " 'written assignment 13.ipynb',\n",
       " 'written assignment 14.ipynb',\n",
       " 'written assignment 15.ipynb',\n",
       " 'written assignment 16.ipynb',\n",
       " 'written assignment 17.ipynb',\n",
       " 'written assignment 18.ipynb',\n",
       " 'written assignment 19.ipynb',\n",
       " 'written assignment 20.ipynb',\n",
       " 'written assignment 21.ipynb',\n",
       " 'written assignment 24.ipynb',\n",
       " 'written assignment 25.ipynb',\n",
       " 'YouTube Trending Titles on 12-30-18.csv']"
      ]
     },
     "execution_count": 4,
     "metadata": {},
     "output_type": "execute_result"
    }
   ],
   "source": [
    "import os\n",
    "os.listdir('.')"
   ]
  },
  {
   "cell_type": "markdown",
   "id": "c31f64d6",
   "metadata": {},
   "source": [
    "# 5. Create a list of all of the files in your parent directory (minimum five files should be available)."
   ]
  },
  {
   "cell_type": "code",
   "execution_count": 5,
   "id": "12af2999",
   "metadata": {},
   "outputs": [
    {
     "data": {
      "text/plain": [
       "['All Users', 'Default', 'Default User', 'desktop.ini', 'Public', 'visha']"
      ]
     },
     "execution_count": 5,
     "metadata": {},
     "output_type": "execute_result"
    }
   ],
   "source": [
    "os.listdir('..')"
   ]
  },
  {
   "cell_type": "markdown",
   "id": "4756383d",
   "metadata": {},
   "source": [
    "# 6. Use multiprocessing to create three separate processes. Make each one wait a random number of seconds between one and five, print the current time, and then exit."
   ]
  },
  {
   "cell_type": "code",
   "execution_count": 7,
   "id": "5adf6ccf",
   "metadata": {},
   "outputs": [],
   "source": [
    "import multiprocessing\n",
    "\n",
    "def printsec(seconds):\n",
    "    from datetime import datetime\n",
    "    from time import sleep\n",
    "    sleep(seconds)\n",
    "    print('wait', seconds, 'seconds, time is', datetime.utcnow())\n",
    "    \n",
    "if __name__ == '__main__':\n",
    "    import random    \n",
    "    for n in range(3):\n",
    "        seconds = random.random()\n",
    "        proc = multiprocessing.Process(target=printsec, args=(seconds,))\n",
    "        proc.start()\n"
   ]
  },
  {
   "cell_type": "markdown",
   "id": "c931f7b3",
   "metadata": {},
   "source": [
    "# 7. Create a date object of your day of birth."
   ]
  },
  {
   "cell_type": "code",
   "execution_count": 16,
   "id": "41fc4170",
   "metadata": {},
   "outputs": [
    {
     "name": "stdout",
     "output_type": "stream",
     "text": [
      "1995-05-13\n"
     ]
    }
   ],
   "source": [
    "import datetime\n",
    "\n",
    "birthdate = datetime.date(1995, 5, 13)\n",
    "print(birthdate)\n"
   ]
  },
  {
   "cell_type": "markdown",
   "id": "e30790b1",
   "metadata": {},
   "source": [
    "# 8. What day of the week was your day of birth?"
   ]
  },
  {
   "cell_type": "code",
   "execution_count": 19,
   "id": "4451ca97",
   "metadata": {},
   "outputs": [
    {
     "name": "stdout",
     "output_type": "stream",
     "text": [
      "5\n"
     ]
    }
   ],
   "source": [
    "import datetime\n",
    "\n",
    "birthdate = datetime.date(1995, 5, 13)\n",
    "day_of_week = birthdate.weekday()\n",
    "print(day_of_week)"
   ]
  },
  {
   "cell_type": "markdown",
   "id": "6702de66",
   "metadata": {},
   "source": [
    "# 9. When will you be (or when were you) 10,000 days old?"
   ]
  },
  {
   "cell_type": "code",
   "execution_count": 20,
   "id": "80ad6459",
   "metadata": {},
   "outputs": [
    {
     "data": {
      "text/plain": [
       "datetime.date(2022, 9, 28)"
      ]
     },
     "execution_count": 20,
     "metadata": {},
     "output_type": "execute_result"
    }
   ],
   "source": [
    "from datetime import timedelta\n",
    "day10000 = birthdate + timedelta(days=10000)\n",
    "day10000"
   ]
  },
  {
   "cell_type": "code",
   "execution_count": null,
   "id": "6ff708af",
   "metadata": {},
   "outputs": [],
   "source": []
  }
 ],
 "metadata": {
  "kernelspec": {
   "display_name": "Python 3 (ipykernel)",
   "language": "python",
   "name": "python3"
  },
  "language_info": {
   "codemirror_mode": {
    "name": "ipython",
    "version": 3
   },
   "file_extension": ".py",
   "mimetype": "text/x-python",
   "name": "python",
   "nbconvert_exporter": "python",
   "pygments_lexer": "ipython3",
   "version": "3.9.12"
  }
 },
 "nbformat": 4,
 "nbformat_minor": 5
}
