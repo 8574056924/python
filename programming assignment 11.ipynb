{
 "cells": [
  {
   "cell_type": "code",
   "execution_count": 6,
   "id": "4045e174",
   "metadata": {},
   "outputs": [
    {
     "name": "stdout",
     "output_type": "stream",
     "text": [
      "['positive', 'person']\n"
     ]
    }
   ],
   "source": [
    "#1. Write a Python program to find words which are greater than given length k?\n",
    "def string_k(k, str):\n",
    "    string = []\n",
    "    \n",
    "    text = str.split(\" \")\n",
    "    \n",
    "    for x in text:\n",
    "         \n",
    "        if len(x) > k:\n",
    "            \n",
    "            string.append(x)\n",
    "             \n",
    "    return string\n",
    "k = 3\n",
    "str =\"i am positive person\"\n",
    "print(string_k(k, str))"
   ]
  },
  {
   "cell_type": "code",
   "execution_count": 3,
   "id": "77de4e03",
   "metadata": {},
   "outputs": [
    {
     "name": "stdout",
     "output_type": "stream",
     "text": [
      "Ineoron i the best plateform\n"
     ]
    }
   ],
   "source": [
    "#2. Write a Python program for removing i-th character from a string?\n",
    "\n",
    "def remove(string, i):\n",
    "  \n",
    "    for j in range(len(string)):\n",
    "        if j == i:\n",
    "            string = string.replace(string[i], \"\", 1)\n",
    "    return string\n",
    "  \n",
    "if __name__ == '__main__':\n",
    "  \n",
    "    string = \"Ineoron is the best plateform\"\n",
    "  \n",
    "    i = 9\n",
    "\n",
    "    print(remove(string, i))\n"
   ]
  },
  {
   "cell_type": "code",
   "execution_count": 4,
   "id": "c98f4bbf",
   "metadata": {},
   "outputs": [
    {
     "name": "stdout",
     "output_type": "stream",
     "text": [
      "['Ineoron', 'is', 'the', 'best', 'plateform']\n",
      "Ineoron-is-the-best-plateform\n"
     ]
    }
   ],
   "source": [
    "#3. Write a Python program to split and join a string?\n",
    "s = 'Ineoron is the best plateform'\n",
    "\n",
    "print(s.split(\" \"))\n",
    "\n",
    "print(\"-\".join(s.split()))"
   ]
  },
  {
   "cell_type": "code",
   "execution_count": 7,
   "id": "a2df8f86",
   "metadata": {},
   "outputs": [
    {
     "name": "stdout",
     "output_type": "stream",
     "text": [
      "Enter the string : 01011010111\n",
      "Its a Binary\n"
     ]
    }
   ],
   "source": [
    "#4. Write a Python to check if a given string is binary string or not?\n",
    "def checkBinary(str):\n",
    "    binary = '01'\n",
    "    for i in range(len(str)):\n",
    "        if str[i] not in binary:\n",
    "            print('Not Binary')\n",
    "            break\n",
    "    else:\n",
    "        print('Its a Binary')\n",
    "        \n",
    "str = input(\"Enter the string : \")\n",
    "checkBinary(str)   \n"
   ]
  },
  {
   "cell_type": "code",
   "execution_count": 1,
   "id": "71e2aa4c",
   "metadata": {},
   "outputs": [
    {
     "name": "stdout",
     "output_type": "stream",
     "text": [
      "['the', 'is', 'plateform', 'placement', 'gaurentee', 'gives', 'best', '100%']\n"
     ]
    }
   ],
   "source": [
    "#5. Write a Python program to find uncommon words from two Strings?\n",
    "def UncommonWords(A, B):\n",
    "    A=A.split()\n",
    "    B=B.split()\n",
    "    x=[]\n",
    "    for i in A:\n",
    "        if i not in B:\n",
    "            x.append(i)\n",
    "    for i in B:\n",
    "        if i not in A:\n",
    "            x.append(i)\n",
    "    x=list(set(x))\n",
    "    return x\n",
    "             \n",
    "\n",
    "A = \"Ineoron is the best plateform\"\n",
    "B = \"Ineoron gives 100% placement gaurentee\"\n",
    "\n",
    "print(UncommonWords(A, B))\n",
    "\n"
   ]
  },
  {
   "cell_type": "code",
   "execution_count": 9,
   "id": "8e65af8b",
   "metadata": {},
   "outputs": [
    {
     "name": "stdout",
     "output_type": "stream",
     "text": [
      "{'e', ' ', 'c', 't', 'l', 's', 'a'}\n"
     ]
    }
   ],
   "source": [
    "#6. Write a Python to find all duplicate characters in string?\n",
    "def find_duplicate_chars(string):\n",
    "    duplicates = set()\n",
    "\n",
    "    unique_chars = set()\n",
    "\n",
    "    for char in string:\n",
    "        if char in unique_chars:\n",
    "            duplicates.add(char)\n",
    "        else:\n",
    "            unique_chars.add(char)\n",
    "\n",
    "    return duplicates\n",
    "\n",
    "\n",
    "input_string = \"full stack datascience\"\n",
    "result = find_duplicate_chars(input_string)\n",
    "print(result)\n"
   ]
  },
  {
   "cell_type": "code",
   "execution_count": 13,
   "id": "1fad10cf",
   "metadata": {},
   "outputs": [
    {
     "name": "stdout",
     "output_type": "stream",
     "text": [
      "string is not accepted\n"
     ]
    }
   ],
   "source": [
    "#7. Write a Python Program to check if a string contains any special character?\n",
    "n = \"Ineoron!!!!\"\n",
    "n.split()\n",
    "c = 0\n",
    "s = '[@_!#$%^&*()<>?/\\|}{~:]'\n",
    "for i in range(len(n)):\n",
    "    \n",
    "    if n[i] in s:\n",
    "        c += 1  \n",
    "\n",
    "if c:\n",
    "    print(\"string is not accepted\")\n",
    "else:\n",
    "    print(\"string accepted\")\n",
    " "
   ]
  },
  {
   "cell_type": "code",
   "execution_count": null,
   "id": "858763ad",
   "metadata": {},
   "outputs": [],
   "source": []
  }
 ],
 "metadata": {
  "kernelspec": {
   "display_name": "Python 3 (ipykernel)",
   "language": "python",
   "name": "python3"
  },
  "language_info": {
   "codemirror_mode": {
    "name": "ipython",
    "version": 3
   },
   "file_extension": ".py",
   "mimetype": "text/x-python",
   "name": "python",
   "nbconvert_exporter": "python",
   "pygments_lexer": "ipython3",
   "version": "3.9.12"
  }
 },
 "nbformat": 4,
 "nbformat_minor": 5
}
