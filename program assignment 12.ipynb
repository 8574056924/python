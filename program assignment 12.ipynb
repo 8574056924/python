{
 "cells": [
  {
   "cell_type": "code",
   "execution_count": 3,
   "id": "81b30a10",
   "metadata": {},
   "outputs": [
    {
     "name": "stdout",
     "output_type": "stream",
     "text": [
      "{1, 2, 3}\n"
     ]
    }
   ],
   "source": [
    "#Write a Python program to Extract Unique values dictionary values?\n",
    "def extract_unique_values(dictionary):\n",
    "    unique_values = set()\n",
    "    for value in dictionary.values():\n",
    "        unique_values.add(value)\n",
    "\n",
    "    return unique_values\n",
    "\n",
    "input_dict = {'a': 1, 'b': 2, 'c': 1, 'd': 3, 'e': 2}\n",
    "result = extract_unique_values(input_dict)\n",
    "print(result)"
   ]
  },
  {
   "cell_type": "code",
   "execution_count": 2,
   "id": "c390947c",
   "metadata": {},
   "outputs": [
    {
     "data": {
      "text/plain": [
       "dict_keys([1, 2, 3, 4])"
      ]
     },
     "execution_count": 2,
     "metadata": {},
     "output_type": "execute_result"
    }
   ],
   "source": [
    "dic.keys()"
   ]
  },
  {
   "cell_type": "code",
   "execution_count": 1,
   "id": "979dfeaf",
   "metadata": {},
   "outputs": [
    {
     "name": "stdout",
     "output_type": "stream",
     "text": [
      "Sum of dic values: 60\n"
     ]
    }
   ],
   "source": [
    "#2. Write a Python program to find the sum of all items in a dictionary?\n",
    "def sum_of_dic(dic):\n",
    "    return sum(dic.values())\n",
    "\n",
    "my_dic = {'a': 10, 'b': 20, 'c': 30}\n",
    "\n",
    "result = sum_of_dic(my_dic)\n",
    "\n",
    "print(\"Sum of dic values:\", result)\n",
    "\n",
    "\n"
   ]
  },
  {
   "cell_type": "code",
   "execution_count": 5,
   "id": "cbf6213d",
   "metadata": {},
   "outputs": [
    {
     "name": "stdout",
     "output_type": "stream",
     "text": [
      "Merged dictionary: {'a': 10, 'b': 20, 'c': 30, 'd': 40}\n"
     ]
    }
   ],
   "source": [
    "#3. Write a Python program to Merging two Dictionaries?\n",
    "def dictionaries(dict1, dict2):\n",
    "    merged_dict = dict1.copy() \n",
    "\n",
    "    merged_dict.update(dict2)  \n",
    "\n",
    "    return merged_dict\n",
    "\n",
    "\n",
    "dict1 = {'a': 10, 'b': 20}\n",
    "dict2 = {'c': 30, 'd': 40}\n",
    "\n",
    "result = dictionaries(dict1, dict2)\n",
    "\n",
    "print(\"Merged dictionary:\", result)"
   ]
  },
  {
   "cell_type": "code",
   "execution_count": 6,
   "id": "d37d9943",
   "metadata": {},
   "outputs": [
    {
     "name": "stdout",
     "output_type": "stream",
     "text": [
      "Flat dictionary: {'a': 1, 'b': 2, 'c': 3}\n"
     ]
    }
   ],
   "source": [
    "#4. Write a Python program to convert key-values list to flat dictionary?\n",
    "def convert_to_flat_dictionary(key_value_list):\n",
    "    flat_dict = {}\n",
    "\n",
    "    for key, value in key_value_list:\n",
    "        flat_dict[key] = value\n",
    "\n",
    "    return flat_dict\n",
    "\n",
    "key_value_list = [(\"a\", 1), (\"b\", 2), (\"c\", 3)]\n",
    "\n",
    "result = convert_to_flat_dictionary(key_value_list)\n",
    "\n",
    "print(\"Flat dictionary:\", result)\n"
   ]
  },
  {
   "cell_type": "code",
   "execution_count": 7,
   "id": "47da7dc9",
   "metadata": {},
   "outputs": [
    {
     "name": "stdout",
     "output_type": "stream",
     "text": [
      "Updated OrderedDict: OrderedDict([('d', 4), ('a', 1), ('b', 2), ('c', 3)])\n"
     ]
    }
   ],
   "source": [
    "#5. Write a Python program to insertion at the beginning in OrderedDict?\n",
    "from collections import OrderedDict\n",
    "\n",
    "def insert_at_beginning(ordered_dict, key, value):\n",
    "    ordered_dict[key] = value\n",
    "    ordered_dict.move_to_end(key, last=False)\n",
    "\n",
    "ordered_dict = OrderedDict([('a', 1), ('b', 2), ('c', 3)])\n",
    "\n",
    "insert_at_beginning(ordered_dict, 'd', 4)\n",
    "\n",
    "print(\"Updated OrderedDict:\", ordered_dict)\n",
    "\n",
    "\n"
   ]
  },
  {
   "cell_type": "code",
   "execution_count": 8,
   "id": "41e81280",
   "metadata": {},
   "outputs": [
    {
     "name": "stdout",
     "output_type": "stream",
     "text": [
      "The order of characters in the string matches the pattern.\n"
     ]
    }
   ],
   "source": [
    "#6. Write a Python program to check order of character in string using OrderedDict()?\n",
    "from collections import OrderedDict\n",
    "\n",
    "def check_order_of_characters(string, pattern):\n",
    "    char_positions = OrderedDict()\n",
    "\n",
    "    for char in string:\n",
    "        if char in pattern and char not in char_positions:\n",
    "            char_positions[char] = len(char_positions)  \n",
    "    for i, char in enumerate(pattern):\n",
    "        if char not in char_positions or char_positions[char] != i:\n",
    "            return False\n",
    "\n",
    "    return True\n",
    "\n",
    "string = \"Hello World\"\n",
    "pattern = \"Hlo\"\n",
    "\n",
    "result = check_order_of_characters(string, pattern)\n",
    "\n",
    "if result:\n",
    "    print(\"The order of characters in the string matches the pattern.\")\n",
    "else:\n",
    "    print(\"The order of characters in the string does not match the pattern.\")\n"
   ]
  },
  {
   "cell_type": "code",
   "execution_count": 9,
   "id": "a0f57a67",
   "metadata": {},
   "outputs": [
    {
     "name": "stdout",
     "output_type": "stream",
     "text": [
      "[1, 2, 3, 4, 5, 6]\n",
      "[(1, 2), (2, 1), (3, 4), (4, 3), (5, 6), (6, 5)]\n"
     ]
    }
   ],
   "source": [
    "#7. Write a Python program to sort Python Dictionaries by Key or Value?\n",
    "a = {1:2 ,2:1 ,4:3 ,3:4 ,6:5 ,5:6 }\n",
    "print(sorted(a.keys()))\n",
    "print(sorted(a.items()))"
   ]
  },
  {
   "cell_type": "code",
   "execution_count": null,
   "id": "268e4a04",
   "metadata": {},
   "outputs": [],
   "source": []
  }
 ],
 "metadata": {
  "kernelspec": {
   "display_name": "Python 3 (ipykernel)",
   "language": "python",
   "name": "python3"
  },
  "language_info": {
   "codemirror_mode": {
    "name": "ipython",
    "version": 3
   },
   "file_extension": ".py",
   "mimetype": "text/x-python",
   "name": "python",
   "nbconvert_exporter": "python",
   "pygments_lexer": "ipython3",
   "version": "3.9.12"
  }
 },
 "nbformat": 4,
 "nbformat_minor": 5
}
