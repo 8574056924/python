{
 "cells": [
  {
   "cell_type": "code",
   "execution_count": 6,
   "id": "e7f35229",
   "metadata": {},
   "outputs": [
    {
     "name": "stdout",
     "output_type": "stream",
     "text": [
      "[4, 16, 9]\n",
      "[25, 36, 4]\n",
      "[49, 64, 36]\n"
     ]
    }
   ],
   "source": [
    "#Write a Python Program to Add Two Matrices?\n",
    "a=[[2,4,3],\n",
    "   [5,6,2],\n",
    "   [7,8,6]]\n",
    "b=[[2,4,3],\n",
    "   [5,6,2],\n",
    "   [7,8,6]]\n",
    "result=[[0,0,0],\n",
    "        [0,0,0],\n",
    "        [0,0,0]]\n",
    "for i in range(len(a)):\n",
    "    for j in range(len(b)):\n",
    "        result[i][j]=a[i][j]+b[i][j]\n",
    "for k in result:\n",
    "    print(k)\n",
    "        \n"
   ]
  },
  {
   "cell_type": "code",
   "execution_count": 8,
   "id": "58420da3",
   "metadata": {},
   "outputs": [
    {
     "name": "stdout",
     "output_type": "stream",
     "text": [
      "[[4, 16, 9]]\n",
      "[[25, 36, 4]]\n",
      "[[49, 64, 36]]\n"
     ]
    }
   ],
   "source": [
    "#Write a Python Program to Multiply Two Matrices?\n",
    "a=[[2,4,3],\n",
    "   [5,6,2],\n",
    "   [7,8,6]]\n",
    "b=[[2,4,3],\n",
    "   [5,6,2],\n",
    "   [7,8,6]]\n",
    "result=[[0,0,0],\n",
    "        [0,0,0],\n",
    "        [0,0,0]]\n",
    "for i in range(len(a)):\n",
    "    for j in range(len(b)):\n",
    "        result[i][j]=a[i][j]*b[i][j]\n",
    "for k in result:\n",
    "    print(k)\n"
   ]
  },
  {
   "cell_type": "code",
   "execution_count": 6,
   "id": "27105a31",
   "metadata": {},
   "outputs": [
    {
     "name": "stdout",
     "output_type": "stream",
     "text": [
      "[2, 5]\n",
      "[3, 6]\n",
      "[4, 7]\n"
     ]
    }
   ],
   "source": [
    "#Write a Python Program to Transpose a Matrix?\n",
    "a=[[2,3,4],\n",
    "  [5,6,7]]\n",
    "t=[[0,0],\n",
    "   [0,0],\n",
    "   [0,0]]\n",
    "\n",
    "for i in range(len(a)):\n",
    "    for j in range(len(a[0])):\n",
    "        t[j][i] = a[i][j]\n",
    "for k in t:\n",
    "    print(k)\n"
   ]
  },
  {
   "cell_type": "code",
   "execution_count": 14,
   "id": "f43596b3",
   "metadata": {},
   "outputs": [
    {
     "name": "stdout",
     "output_type": "stream",
     "text": [
      "The sorted words are:\n",
      "an\n",
      "cased\n",
      "example\n",
      "hello\n",
      "is\n",
      "letters\n",
      "this\n",
      "with\n"
     ]
    }
   ],
   "source": [
    "#4. Write a Python Program to Sort Words in Alphabetic Order?\n",
    "my_str = \"Hello this Is an Example With cased letters\"\n",
    "\n",
    "words = [word.lower() for word in my_str.split()]\n",
    "\n",
    "words.sort()\n",
    "\n",
    "\n",
    "print(\"The sorted words are:\")\n",
    "for word in words:\n",
    "   print(word)\n",
    "\n",
    "\n",
    "\n",
    "\n"
   ]
  },
  {
   "cell_type": "code",
   "execution_count": 15,
   "id": "682b4f2a",
   "metadata": {},
   "outputs": [
    {
     "name": "stdout",
     "output_type": "stream",
     "text": [
      "The original string is : ineoron !s the best::platform () for learn!ing ;\n",
      "The string after punctuation filter :  ineoron s the bestplatform  for learning \n"
     ]
    }
   ],
   "source": [
    "#5. Write a Python Program to Remove Punctuation From a String?\n",
    "test_str = \"ineoron !s the best::platform () for learn!ing ;\"\n",
    " \n",
    "print(\"The original string is : \" + test_str)\n",
    " \n",
    "punc = '''!()-[]{};:'\"\\,<>./?@#$%^&*_~'''\n",
    "res=\" \"\n",
    "for ele in test_str:\n",
    "    if ele not in punc:\n",
    "        res+=ele\n",
    "         \n",
    "print(\"The string after punctuation filter : \" + res)"
   ]
  },
  {
   "cell_type": "code",
   "execution_count": null,
   "id": "b5f610a6",
   "metadata": {},
   "outputs": [],
   "source": []
  }
 ],
 "metadata": {
  "kernelspec": {
   "display_name": "Python 3 (ipykernel)",
   "language": "python",
   "name": "python3"
  },
  "language_info": {
   "codemirror_mode": {
    "name": "ipython",
    "version": 3
   },
   "file_extension": ".py",
   "mimetype": "text/x-python",
   "name": "python",
   "nbconvert_exporter": "python",
   "pygments_lexer": "ipython3",
   "version": "3.9.12"
  }
 },
 "nbformat": 4,
 "nbformat_minor": 5
}
