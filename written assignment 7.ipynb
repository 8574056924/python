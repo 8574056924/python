{
 "cells": [
  {
   "cell_type": "code",
   "execution_count": 1,
   "id": "d9df5265",
   "metadata": {},
   "outputs": [
    {
     "name": "stdout",
     "output_type": "stream",
     "text": [
      "None\n"
     ]
    }
   ],
   "source": [
    "#1. What is the name of the feature responsible for generating Regex objects?\n",
    "import re\n",
    "print(re.search(r'[^a-z]', 'c'))"
   ]
  },
  {
   "cell_type": "raw",
   "id": "ec1221f9",
   "metadata": {},
   "source": [
    "2. Why do raw strings often appear in Regex objects?\n",
    "Answer =Since regular expressions frequently use backslashes in them, it is convenient to pass raw strings to the re.compile() function instead of typing extra backslashes.\n"
   ]
  },
  {
   "cell_type": "raw",
   "id": "bfbc0fd8",
   "metadata": {},
   "source": [
    "3. What is the return value of the search() method?\n",
    "Answer=The search() function returns a Match object if there is a match."
   ]
  },
  {
   "cell_type": "raw",
   "id": "d2bcbb1b",
   "metadata": {},
   "source": [
    "4. From a Match item, how do you get the actual strings that match the pattern?\n",
    "Answer= when we use the match item we get the actual strings which we want to search any word or sentence.Call the Match object’s group () method to return a string of the actual matched text. "
   ]
  },
  {
   "cell_type": "raw",
   "id": "a15104b1",
   "metadata": {},
   "source": [
    "5. In the regex which created from the r'(\\d\\d\\d)-(\\d\\d\\d-\\d\\d\\d\\d)' what does group zero cover?\n",
    "Group 2? Group 1?\n",
    "Answer= Group zero is used to matching the actual string,Group 1 match first parenthesis,Group 2 coverd second parenthesis.\n"
   ]
  },
  {
   "cell_type": "raw",
   "id": "735e8a3f",
   "metadata": {},
   "source": [
    "6. In standard expression syntax, parentheses and intervals have distinct meanings. How can you tell\n",
    "a regex that you want it to fit real parentheses and periods?\n",
    "Answer=Periods and parentheses can be escaped with a backslash: \\., \\(, and \\)."
   ]
  },
  {
   "cell_type": "raw",
   "id": "22c81a5c",
   "metadata": {},
   "source": [
    "8. In standard expressions, what does the | character mean?\n",
    "Answer=Matches any one element separated by the vertical bar (|) character."
   ]
  },
  {
   "cell_type": "raw",
   "id": "e7555b8d",
   "metadata": {},
   "source": [
    "9. In regular expressions, what does the character stand for?\n",
    "Answer=A character class matches any one of a set of characters. It is used to match the most basic element of a language like a letter, a digit, space, a symbol etc. [set_of_characters] – Matches any single character in set_of_characters. By default, the match is case-sensitive. Example : [abc] will match characters a,b and c in any string."
   ]
  },
  {
   "cell_type": "raw",
   "id": "7209cf32",
   "metadata": {},
   "source": [
    "10.In regular expressions, what is the difference between the + and * characters?\n",
    "answer=(*)=Zero or more occurrences\n",
    "       (+)=One or more occurrences"
   ]
  },
  {
   "cell_type": "code",
   "execution_count": 1,
   "id": "758b4439",
   "metadata": {},
   "outputs": [
    {
     "name": "stdout",
     "output_type": "stream",
     "text": [
      "['hello']\n"
     ]
    }
   ],
   "source": [
    "import re\n",
    "\n",
    "txt = \"hello ineoron\"\n",
    "\n",
    "x = re.findall(\"he.*o\", txt)\n",
    "\n",
    "print(x)\n"
   ]
  },
  {
   "cell_type": "code",
   "execution_count": 4,
   "id": "d5c32f5a",
   "metadata": {},
   "outputs": [
    {
     "name": "stdout",
     "output_type": "stream",
     "text": [
      "['hello ineoro']\n"
     ]
    }
   ],
   "source": [
    "import re\n",
    "\n",
    "txt = \"hello ineoron\"\n",
    "\n",
    "x = re.findall(\"he.+o\", txt)\n",
    "\n",
    "print(x)"
   ]
  },
  {
   "cell_type": "raw",
   "id": "66051a69",
   "metadata": {},
   "source": [
    "11. What is the difference between {4} and {4,5} in regular expression?\n",
    "The {4} matches exactly four instances of the preceding group. \n",
    "The {4,5} matches between four and five instances\n"
   ]
  },
  {
   "cell_type": "raw",
   "id": "166d860f",
   "metadata": {},
   "source": [
    "12. What do you mean by the \\d, \\w, and \\s shorthand character classes signify in regular\n",
    "expressions?\n",
    "Answer=\\d=Returns a match where the string contains digits (numbers from 0-9)\n",
    "\\w=Returns a match where the string contains any word characters (characters from a to Z, digits from 0-9, and the underscore _ character)\n",
    "\\s=Returns a match where the string contains a white space character"
   ]
  },
  {
   "cell_type": "raw",
   "id": "58897a2a",
   "metadata": {},
   "source": [
    "13. What do means by \\D, \\W, and \\S shorthand character classes signify in regular expressions?\n",
    "Answer=\\D=Returns a match where the string DOES NOT contain digits\n",
    "\\W=Returns a match where the string DOES NOT contain a any word character\n",
    "\\S=Returns a match where the string DOES NOT contain white space character"
   ]
  },
  {
   "cell_type": "raw",
   "id": "1f0179ca",
   "metadata": {},
   "source": [
    "14. What is the difference between .*? and .*?\n",
    "Answer=.* - > The dot-star uses greedy mode: It will always try to match as much text as possible.\n",
    ".*? - > To match any and all text in a non-greedy fashion, use the dot, star, and question mark (.*?). "
   ]
  },
  {
   "cell_type": "code",
   "execution_count": 5,
   "id": "c5e3f8fd",
   "metadata": {},
   "outputs": [
    {
     "data": {
      "text/plain": [
       "'i'"
      ]
     },
     "execution_count": 5,
     "metadata": {},
     "output_type": "execute_result"
    }
   ],
   "source": [
    "#15. What is the syntax for matching both numbers and lowercase letters with a character class?\n",
    "import re\n",
    "\n",
    "a = re.compile(r'[0-9a-z]')\n",
    "b = re.compile(r'[a-z0-9]')\n",
    "\n",
    "c = a.search('i have spend 100000 Rs in bank account')\n",
    "c.group()\n",
    "\n",
    "\n"
   ]
  },
  {
   "cell_type": "code",
   "execution_count": 6,
   "id": "30dc9a7f",
   "metadata": {},
   "outputs": [
    {
     "data": {
      "text/plain": [
       "'i'"
      ]
     },
     "execution_count": 6,
     "metadata": {},
     "output_type": "execute_result"
    }
   ],
   "source": [
    "txt = re.compile(r'[a-z0-9]')\n",
    "reg = txt.search('i have spend 100000 Rs in bank account')\n",
    "reg.group()"
   ]
  },
  {
   "cell_type": "code",
   "execution_count": 7,
   "id": "345295e8",
   "metadata": {},
   "outputs": [
    {
     "name": "stdout",
     "output_type": "stream",
     "text": [
      "<re.Match object; span=(19, 20), match='p'>\n"
     ]
    }
   ],
   "source": [
    "#16. What is the procedure for making a normal expression in regax case insensitive?\n",
    "import re\n",
    " \n",
    "s = 'i am self motivate person'\n",
    "\n",
    "match = re.search(r'p', s)\n",
    "print(match)"
   ]
  },
  {
   "cell_type": "raw",
   "id": "e6772fe6",
   "metadata": {},
   "source": [
    "'''17. What does the . character normally match? What does it match if re.DOTALL is passed as 2nd\n",
    "argument in re.compile()?'''\n",
    "Answer=The ‘.’ special character in Python matches with any character excluding the new line, but using DOTALL flag in python we can extend its functionality.\n",
    "With the help of DOTALL flag the ‘.’ character can match any character including newline.\n",
    "re.DOTALL is passed as the second argument to re.compile(), then the dot will also match newline characters.\n",
    "\n"
   ]
  },
  {
   "cell_type": "code",
   "execution_count": 4,
   "id": "4a91af5e",
   "metadata": {},
   "outputs": [
    {
     "data": {
      "text/plain": [
       "'X drummers, X pipers, five rings, X hen'"
      ]
     },
     "execution_count": 4,
     "metadata": {},
     "output_type": "execute_result"
    }
   ],
   "source": [
    "'''18. If numReg = re.compile(r'\\d+'), what will numRegex.sub('X', '11 drummers, 10 pipers, five rings, 4\n",
    "hen') return?'''\n",
    "import re\n",
    "numReg = re.compile(r'\\d+')\n",
    "txt=numReg.sub('X', '11 drummers, 10 pipers, five rings, 4 hen') \n",
    "txt"
   ]
  },
  {
   "cell_type": "raw",
   "id": "0c2fa570",
   "metadata": {},
   "source": [
    "19. What does passing re.VERBOSE as the 2nd argument to re.compile() allow to do?\n",
    "Answer=The re.VERBOSE argument allows you to add whitespace and comments to the string passed to re.compile()\n"
   ]
  },
  {
   "cell_type": "code",
   "execution_count": 5,
   "id": "1a01404c",
   "metadata": {},
   "outputs": [
    {
     "data": {
      "text/plain": [
       "'42'"
      ]
     },
     "execution_count": 5,
     "metadata": {},
     "output_type": "execute_result"
    }
   ],
   "source": [
    "'''20. How would you write a regex that match a number with comma for every three digits? It must\n",
    "match the given following:\n",
    "\n",
    "'42'\n",
    "'1,234'\n",
    "'6,368,745'\n",
    "\n",
    "but not the following:\n",
    "'12,34,567' (which has only two digits between the commas)\n",
    "'1234' (which lacks commas)'''\n",
    "\n",
    "txt = re.compile(r'^\\d{1,3}(,\\d{3})*$')\n",
    "searching = txt.search('42')\n",
    "searching.group()\n",
    "\n",
    "\n",
    "\n",
    "\n",
    "    "
   ]
  },
  {
   "cell_type": "code",
   "execution_count": 6,
   "id": "49e90c83",
   "metadata": {},
   "outputs": [
    {
     "data": {
      "text/plain": [
       "'1,234'"
      ]
     },
     "execution_count": 6,
     "metadata": {},
     "output_type": "execute_result"
    }
   ],
   "source": [
    "txt = re.compile(r'^\\d{1,3}(,\\d{3})*$')\n",
    "searching = txt.search('1,234')\n",
    "searching.group()"
   ]
  },
  {
   "cell_type": "code",
   "execution_count": 7,
   "id": "65102720",
   "metadata": {},
   "outputs": [
    {
     "data": {
      "text/plain": [
       "'6,368,745'"
      ]
     },
     "execution_count": 7,
     "metadata": {},
     "output_type": "execute_result"
    }
   ],
   "source": [
    "txt = re.compile(r'^\\d{1,3}(,\\d{3})*$')\n",
    "searching = txt.search('6,368,745')\n",
    "searching.group()"
   ]
  },
  {
   "cell_type": "code",
   "execution_count": 2,
   "id": "3cf2084e",
   "metadata": {},
   "outputs": [
    {
     "data": {
      "text/plain": [
       "'Haruto Watanabe'"
      ]
     },
     "execution_count": 2,
     "metadata": {},
     "output_type": "execute_result"
    }
   ],
   "source": [
    "import re\n",
    "s='''21. How would you write a regex that matches the full name of someone whose last name is\n",
    "Watanabe? You can assume that the first name that comes before it will always be one word that\n",
    "begins with a capital letter. The regex must match the following:\n",
    "'Haruto Watanabe'\n",
    "'Alice Watanabe'\n",
    "'RoboCop Watanabe'\n",
    "but not the following:\n",
    "'haruto Watanabe' (where the first name is not capitalized)\n",
    "'Mr. Watanabe' (where the preceding word has a nonletter character)\n",
    "'Watanabe' (which has no first name)\n",
    "'Haruto watanabe' (where Watanabe is not capitalized)'''\n",
    "name = re.compile(r'[A-Z][a-z]*\\sWatanabe')\n",
    "reg1 = re.compile(r'^\\d{1,3}(,\\d{haruto Watanabe3})*$')\n",
    "mo1 = name.search('Haruto Watanabe')\n",
    "mo1.group()\n",
    "\n",
    "\n",
    "\n",
    "\n",
    "\n"
   ]
  },
  {
   "cell_type": "code",
   "execution_count": 7,
   "id": "8e099d7a",
   "metadata": {},
   "outputs": [
    {
     "data": {
      "text/plain": [
       "'Alice Watanabe'"
      ]
     },
     "execution_count": 7,
     "metadata": {},
     "output_type": "execute_result"
    }
   ],
   "source": [
    "name = re.compile(r'[A-Z][a-z]*\\sWatanabe')\n",
    "reg1 = re.compile(r'^\\d{1,3}(,\\d{3})*$')\n",
    "mo1 = name.search('Alice Watanabe')\n",
    "mo1.group()"
   ]
  },
  {
   "cell_type": "code",
   "execution_count": 8,
   "id": "2f312fab",
   "metadata": {},
   "outputs": [
    {
     "data": {
      "text/plain": [
       "'Robocop Watanabe'"
      ]
     },
     "execution_count": 8,
     "metadata": {},
     "output_type": "execute_result"
    }
   ],
   "source": [
    "name = re.compile(r'[A-Z][a-z]*\\sWatanabe')\n",
    "reg1 = re.compile(r'^\\d{1,3}(,\\d{3})*$')\n",
    "mo1 = name.search('Robocop Watanabe')\n",
    "mo1.group()"
   ]
  },
  {
   "cell_type": "code",
   "execution_count": 9,
   "id": "bf32b150",
   "metadata": {},
   "outputs": [
    {
     "ename": "AttributeError",
     "evalue": "'NoneType' object has no attribute 'group'",
     "output_type": "error",
     "traceback": [
      "\u001b[1;31m---------------------------------------------------------------------------\u001b[0m",
      "\u001b[1;31mAttributeError\u001b[0m                            Traceback (most recent call last)",
      "Input \u001b[1;32mIn [9]\u001b[0m, in \u001b[0;36m<cell line: 4>\u001b[1;34m()\u001b[0m\n\u001b[0;32m      2\u001b[0m reg1 \u001b[38;5;241m=\u001b[39m re\u001b[38;5;241m.\u001b[39mcompile(\u001b[38;5;124mr\u001b[39m\u001b[38;5;124m'\u001b[39m\u001b[38;5;124m^\u001b[39m\u001b[38;5;124m\\\u001b[39m\u001b[38;5;124md\u001b[39m\u001b[38;5;124m{\u001b[39m\u001b[38;5;124m1,3}(,\u001b[39m\u001b[38;5;124m\\\u001b[39m\u001b[38;5;124md\u001b[39m\u001b[38;5;132;01m{3}\u001b[39;00m\u001b[38;5;124m)*$\u001b[39m\u001b[38;5;124m'\u001b[39m)\n\u001b[0;32m      3\u001b[0m mo1 \u001b[38;5;241m=\u001b[39m name\u001b[38;5;241m.\u001b[39msearch(\u001b[38;5;124m'\u001b[39m\u001b[38;5;124mharuto Watanabe\u001b[39m\u001b[38;5;124m'\u001b[39m)\n\u001b[1;32m----> 4\u001b[0m \u001b[43mmo1\u001b[49m\u001b[38;5;241;43m.\u001b[39;49m\u001b[43mgroup\u001b[49m()\n",
      "\u001b[1;31mAttributeError\u001b[0m: 'NoneType' object has no attribute 'group'"
     ]
    }
   ],
   "source": [
    "name = re.compile(r'[A-Z][a-z]*\\sWatanabe')\n",
    "reg1 = re.compile(r'^\\d{1,3}(,\\d{3})*$')\n",
    "mo1 = name.search('haruto Watanabe')\n",
    "mo1.group()"
   ]
  },
  {
   "cell_type": "raw",
   "id": "f7c6a0de",
   "metadata": {},
   "source": [
    "22. How would you write a regex that matches a sentence where the first word is either Alice, Bob,or Carol; the second word is either eats, pets, or throws; the third word is apples, cats, or baseballs; and the sentence ends with a period? This regex should be case-insensitive. It must match the following:\n",
    "'Alice eats apples.'\n",
    "'Bob pets cats.'\n",
    "'Carol throws baseballs.'\n",
    "'Alice throws Apples.'\n",
    "'BOB EATS CATS.'\n",
    "\n",
    "but not the following:\n",
    "\n",
    "'RoboCop eats apples.'\n",
    "'ALICE THROWS FOOTBALLS.'\n",
    "'Carol eats 7 cats.'\n"
   ]
  },
  {
   "cell_type": "code",
   "execution_count": 10,
   "id": "874657d2",
   "metadata": {},
   "outputs": [
    {
     "data": {
      "text/plain": [
       "'Alice eats apples.'"
      ]
     },
     "execution_count": 10,
     "metadata": {},
     "output_type": "execute_result"
    }
   ],
   "source": [
    "name = re.compile(r'(Alice|Bob|Carol)\\s(eats|pets|throws)\\s(apples|cats|baseballs)\\.', re.IGNORECASE)\n",
    "\n",
    "mo1 = name.search('Alice eats apples.')\n",
    "mo1.group()"
   ]
  },
  {
   "cell_type": "code",
   "execution_count": 3,
   "id": "8ccf78f5",
   "metadata": {},
   "outputs": [
    {
     "data": {
      "text/plain": [
       "'Carol throws baseballs.'"
      ]
     },
     "execution_count": 3,
     "metadata": {},
     "output_type": "execute_result"
    }
   ],
   "source": [
    "name = re.compile(r'(Alice|Bob|Carol)\\s(eats|pets|throws)\\s(apples|cats|baseballs)\\.', re.IGNORECASE)\n",
    "\n",
    "mo1 = name.search('Carol throws baseballs.')\n",
    "mo1.group()"
   ]
  },
  {
   "cell_type": "code",
   "execution_count": null,
   "id": "fa5cc62c",
   "metadata": {},
   "outputs": [],
   "source": []
  }
 ],
 "metadata": {
  "kernelspec": {
   "display_name": "Python 3 (ipykernel)",
   "language": "python",
   "name": "python3"
  },
  "language_info": {
   "codemirror_mode": {
    "name": "ipython",
    "version": 3
   },
   "file_extension": ".py",
   "mimetype": "text/x-python",
   "name": "python",
   "nbconvert_exporter": "python",
   "pygments_lexer": "ipython3",
   "version": "3.9.12"
  }
 },
 "nbformat": 4,
 "nbformat_minor": 5
}
