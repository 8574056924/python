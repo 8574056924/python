{
 "cells": [
  {
   "cell_type": "markdown",
   "id": "4d0defc1",
   "metadata": {},
   "source": [
    "# 1) . What is the difference between enclosing a list comprehension in square brackets and parentheses?\n",
    "Answer = Enclosing a list comprehension in square brackets gives List\n",
    "         Where as list comprehension in parentheses gives generator of tuple."
   ]
  },
  {
   "cell_type": "code",
   "execution_count": 1,
   "id": "3a2cf056",
   "metadata": {},
   "outputs": [
    {
     "data": {
      "text/plain": [
       "[0, 1, 2, 3, 4, 5, 6, 7, 8, 9]"
      ]
     },
     "execution_count": 1,
     "metadata": {},
     "output_type": "execute_result"
    }
   ],
   "source": [
    "l = [i for i in range(10)]\n",
    "l"
   ]
  },
  {
   "cell_type": "code",
   "execution_count": 3,
   "id": "6c1fd190",
   "metadata": {},
   "outputs": [
    {
     "data": {
      "text/plain": [
       "[0, 1, 2, 3, 4, 5, 6, 7, 8, 9]"
      ]
     },
     "execution_count": 3,
     "metadata": {},
     "output_type": "execute_result"
    }
   ],
   "source": [
    "l1 = (i for i in range(10))\n",
    "list(l1)"
   ]
  },
  {
   "cell_type": "markdown",
   "id": "aa540949",
   "metadata": {},
   "source": [
    "# 2) What is the relationship between generators and iterators?\n",
    "\n",
    "Answer = Generators--> Function is used to implement a generators.it uses yield generators.\n",
    "         iterators--> Class is used to implement an iterator.Iterator uses iter() and next() functions.\n",
    "                       "
   ]
  },
  {
   "cell_type": "markdown",
   "id": "39e07f54",
   "metadata": {},
   "source": [
    "# 3) What are the signs that a function is a generator function?\n",
    "\n",
    "Answer = A generator-function is defined like a normal function, but whenever it needs to generate a value, it does so with the yield keyword rather than return."
   ]
  },
  {
   "cell_type": "markdown",
   "id": "cd1d6db7",
   "metadata": {},
   "source": [
    "# 4) What is the purpose of a yield statement?\n",
    "\n",
    "Answer = A yield statement looks much like a return statement,except that instead of stopping execution of the function and returning.it instead provides a value to the code looping over the generator and pauses execution of the generator function."
   ]
  },
  {
   "cell_type": "markdown",
   "id": "e773e2da",
   "metadata": {},
   "source": [
    "# 5) What is the relationship between map calls and list comprehensions? Make a comparison and contrast between the two.\n",
    "\n",
    "Answer = 1)List comprehension is more concise and easier to read as compared to map.\n",
    "2)List comprehension allows filtering. In map, we have no such facility. For example, to print all even numbers in range of 100, we can write n for n in range(100) if n%2 == 0 . There is no alternate for it in map\n",
    "3)List comprehension are used when a list of results is required as map only returns a map object and does not return any list.\n",
    "4)List comprehension is faster than map when we need to evaluate expressions that are too long or complicated to express\n",
    "5)Map is faster in case of calling an already defined function (as no lambda is required).\n"
   ]
  },
  {
   "cell_type": "code",
   "execution_count": null,
   "id": "94650b3b",
   "metadata": {},
   "outputs": [],
   "source": []
  }
 ],
 "metadata": {
  "kernelspec": {
   "display_name": "Python 3 (ipykernel)",
   "language": "python",
   "name": "python3"
  },
  "language_info": {
   "codemirror_mode": {
    "name": "ipython",
    "version": 3
   },
   "file_extension": ".py",
   "mimetype": "text/x-python",
   "name": "python",
   "nbconvert_exporter": "python",
   "pygments_lexer": "ipython3",
   "version": "3.9.12"
  }
 },
 "nbformat": 4,
 "nbformat_minor": 5
}
