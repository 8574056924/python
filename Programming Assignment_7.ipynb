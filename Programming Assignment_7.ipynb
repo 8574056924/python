{
 "cells": [
  {
   "cell_type": "code",
   "execution_count": 20,
   "id": "33e3a929",
   "metadata": {},
   "outputs": [
    {
     "name": "stdout",
     "output_type": "stream",
     "text": [
      "Sum of the array is  15\n"
     ]
    }
   ],
   "source": [
    "#1. Write a Python Program to find sum of array?\n",
    "arr = [1,2,3,4,5]\n",
    "ans = sum(arr)\n",
    "print ('Sum of the array is ',ans)"
   ]
  },
  {
   "cell_type": "code",
   "execution_count": 29,
   "id": "640d5002",
   "metadata": {},
   "outputs": [
    {
     "name": "stdout",
     "output_type": "stream",
     "text": [
      "54\n"
     ]
    }
   ],
   "source": [
    "#2. Write a Python Program to find largest element in an array?\n",
    "arr=[5,6,7,8,9,54]\n",
    "max=arr[0]\n",
    "\n",
    "for i in range(len(arr)):\n",
    "    if arr[i]>max:\n",
    "        max=arr[i]\n",
    "print(max)\n"
   ]
  },
  {
   "cell_type": "code",
   "execution_count": 31,
   "id": "bdb5efc2",
   "metadata": {},
   "outputs": [
    {
     "name": "stdout",
     "output_type": "stream",
     "text": [
      "[6, 5, 4, 3, 2]\n"
     ]
    }
   ],
   "source": [
    "#3. Write a Python Program for array rotation?\n",
    "arr=[2,3,4,5,6]\n",
    "arr.reverse()\n",
    "print(arr)"
   ]
  },
  {
   "cell_type": "code",
   "execution_count": 10,
   "id": "5166540a",
   "metadata": {},
   "outputs": [
    {
     "name": "stdout",
     "output_type": "stream",
     "text": [
      "9 10 4 7 8 "
     ]
    }
   ],
   "source": [
    "#4. Write a Python Program to Split the array and add the first part to the end?\n",
    "def splitArray(arr,n,k):\n",
    "    for i in range(0,k):\n",
    "        x=arr[0]\n",
    "        for j in range(0,n-1):\n",
    "            arr[j]=arr[j+1]\n",
    "        arr[n-1]=x\n",
    "    \n",
    "arr=[7,8,9,10,4]\n",
    "n=len(arr)\n",
    "k=2\n",
    "splitArray(arr,n,2)\n",
    "for i in range(0,n):\n",
    "    print(arr[i],end=' ')\n",
    "\n"
   ]
  },
  {
   "cell_type": "code",
   "execution_count": 26,
   "id": "9239c11f",
   "metadata": {},
   "outputs": [
    {
     "name": "stdout",
     "output_type": "stream",
     "text": [
      "False\n"
     ]
    }
   ],
   "source": [
    "#Write a Python Program to check if given array is Monotonic?\n",
    "def Monotonic(A):\n",
    " \n",
    "    return (all(A[i] <= A[i + 1] for i in range(len(A) - 1)) or\n",
    "            all(A[i] >= A[i + 1] for i in range(len(A) - 1)))\n",
    " \n",
    "A = [6, 5, 4, 4, 8]\n",
    "\n",
    "print(isMonotonic(A))\n"
   ]
  },
  {
   "cell_type": "code",
   "execution_count": null,
   "id": "f7d93d51",
   "metadata": {},
   "outputs": [],
   "source": []
  }
 ],
 "metadata": {
  "kernelspec": {
   "display_name": "Python 3 (ipykernel)",
   "language": "python",
   "name": "python3"
  },
  "language_info": {
   "codemirror_mode": {
    "name": "ipython",
    "version": 3
   },
   "file_extension": ".py",
   "mimetype": "text/x-python",
   "name": "python",
   "nbconvert_exporter": "python",
   "pygments_lexer": "ipython3",
   "version": "3.9.12"
  }
 },
 "nbformat": 4,
 "nbformat_minor": 5
}
