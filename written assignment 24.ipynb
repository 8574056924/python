{
 "cells": [
  {
   "cell_type": "markdown",
   "id": "d22430f4",
   "metadata": {},
   "source": [
    "# 1. What is the relationship between def statements and lambda expressions ?\n",
    "\n",
    "Answer = Def can hold multiple expressions while lambda is a uni-expression function.\n",
    "\n",
    "Def generates a function and designates a name to call it later. Lambda forms a function object and returns it.\n",
    "\n",
    "Def can have a return statement. Lambda can’t have return statements."
   ]
  },
  {
   "cell_type": "markdown",
   "id": "29e99205",
   "metadata": {},
   "source": [
    "# 2. What is the benefit of lambda?\n",
    "\n",
    "Answer = The code is simple and clear.\n",
    "No additional variables are added."
   ]
  },
  {
   "cell_type": "markdown",
   "id": "beeeb46b",
   "metadata": {},
   "source": [
    "# 3. Compare and contrast map, filter, and reduce. \n",
    "Answer = Map-->The map() function iterates through all items in the given iterable and executes the function we passed as an argument on each of them.\n",
    "\n",
    "Filter-->filter() forms a new list that contains only elements that satisfy a certain condition, i.e. the function we passed returns True.\n",
    "\n",
    "Reduce-->Reduce() works differently than map() and filter(). It does not return a new list based on the function and iterable we've passed. Instead, it returns a single value."
   ]
  },
  {
   "cell_type": "markdown",
   "id": "6b3c4711",
   "metadata": {},
   "source": [
    "# 4. What are function annotations, and how are they used?\n",
    "\n",
    "Answer = Function annotations can provide static type checking when used with the external library, ‘mypy’. They make the code more readable by specifying the type for input arguments as well as the return value of the function. These annotations are also used in function overloading, foreign-language bridges, and database query mapping.\n",
    "\n",
    "\n",
    "[def foo(a:”int”, b:”float”=5.0)  -> ”int”]"
   ]
  },
  {
   "cell_type": "markdown",
   "id": "a2919a50",
   "metadata": {},
   "source": [
    "# 5. What are recursive functions, and how are they used?\n",
    "\n",
    "Answer = A recursive function is a function in code that refers to itself for execution. Recursive functions can be simple or elaborate. They allow for more efficient code writing, for instance, in the listing or compiling of sets of numbers, strings or other variables through a single reiterated process."
   ]
  },
  {
   "cell_type": "code",
   "execution_count": 1,
   "id": "390a7555",
   "metadata": {},
   "outputs": [],
   "source": [
    "def factorial(n):\n",
    "    \n",
    "    if n == 1: \n",
    "        return 1\n",
    "    else: \n",
    "        return n * factorial(n - 1)"
   ]
  },
  {
   "cell_type": "code",
   "execution_count": 2,
   "id": "0ba5f2d0",
   "metadata": {},
   "outputs": [
    {
     "data": {
      "text/plain": [
       "120"
      ]
     },
     "execution_count": 2,
     "metadata": {},
     "output_type": "execute_result"
    }
   ],
   "source": [
    "factorial(5)"
   ]
  },
  {
   "cell_type": "markdown",
   "id": "cfeb7200",
   "metadata": {},
   "source": [
    "# 6. What are some general design guidelines for coding functions?\n",
    "\n",
    "Answer = By including functions, we can prevent repeating the same code block repeatedly in a program.\n",
    "         Python functions, once defined, can be called many times and from anywhere in a program.\n",
    "         If our Python program is large, it can be separated into numerous functions which is simple to track.\n",
    "         The key accomplishment of Python functions is we can return as many outputs as we want with different arguments."
   ]
  },
  {
   "cell_type": "markdown",
   "id": "2c01cabf",
   "metadata": {},
   "source": [
    "# 7. Name three or more ways that functions can communicate results to a caller.\n",
    "\n",
    "Answer = Functions can send back results with return statements, by changing passed-in mutable arguments, and by setting global variables. \n",
    "Globals are generally frowned upon (except for very special cases, like multithreaded programs) because they can make code more difficult to understand and use. \n",
    "return statements are usually best, but changing mutables is fine, if expected. Functions may also communicate\n",
    "with system devices such as files and sockets, but these are beyond our scope here."
   ]
  }
 ],
 "metadata": {
  "kernelspec": {
   "display_name": "Python 3 (ipykernel)",
   "language": "python",
   "name": "python3"
  },
  "language_info": {
   "codemirror_mode": {
    "name": "ipython",
    "version": 3
   },
   "file_extension": ".py",
   "mimetype": "text/x-python",
   "name": "python",
   "nbconvert_exporter": "python",
   "pygments_lexer": "ipython3",
   "version": "3.9.12"
  }
 },
 "nbformat": 4,
 "nbformat_minor": 5
}
