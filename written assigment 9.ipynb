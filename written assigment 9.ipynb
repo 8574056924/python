{
 "cells": [
  {
   "cell_type": "raw",
   "id": "67070117",
   "metadata": {},
   "source": [
    "1. To what does a relative path refer?\n",
    "Answer=A relative path refers to a location that is relative to a current directory"
   ]
  },
  {
   "cell_type": "raw",
   "id": "6f294f3a",
   "metadata": {},
   "source": [
    "2. What does an absolute path start with your operating system?\n",
    "Answer=An absolute path refers to the complete details needed to locate a file or folder, starting from the root element and ending with the other subdirectories. Absolute paths are used in websites and operating systems for locating files and folders. An absolute path is also known as an absolute pathname or full path."
   ]
  },
  {
   "cell_type": "code",
   "execution_count": 3,
   "id": "779b8860",
   "metadata": {},
   "outputs": [
    {
     "name": "stdout",
     "output_type": "stream",
     "text": [
      "C:\\Users\\visha\\all files of python\n"
     ]
    }
   ],
   "source": [
    "#3. What do the functions os.getcwd() and os.chdir() do?\n",
    "import os\n",
    "print(os.getcwd())\n",
    "\n"
   ]
  },
  {
   "cell_type": "code",
   "execution_count": 9,
   "id": "c1560797",
   "metadata": {},
   "outputs": [],
   "source": [
    "import os\n",
    "os.chdir(\"c:\\\\\")\n"
   ]
  },
  {
   "cell_type": "raw",
   "id": "f84f7be8",
   "metadata": {},
   "source": [
    "os.getcwd()-->It returns the current working directory(CWD) of the file.\n",
    "os.chdir()-->The os module provides the chdir() function to change the current working directory."
   ]
  },
  {
   "cell_type": "raw",
   "id": "084015a0",
   "metadata": {},
   "source": [
    "4. What are the . and .. folders?\n",
    "Answer=The . folder is the current folder, and .. is the parent folder."
   ]
  },
  {
   "cell_type": "raw",
   "id": "b4cafd20",
   "metadata": {},
   "source": [
    "5. In C:\\bacon\\eggs\\spam.txt, which part is the dir name, and which part is the base name?\n",
    "Answer=C:\\bacon\\eggs is the dir name, while spam.txt is the base name."
   ]
  },
  {
   "cell_type": "raw",
   "id": "d1d9f287",
   "metadata": {},
   "source": [
    "6. What are the three “mode” arguments that can be passed to the open() function?\n",
    "Answer=The string 'r' for read mode, 'w' for write mode, and 'a' for append mode."
   ]
  },
  {
   "cell_type": "raw",
   "id": "55587c71",
   "metadata": {},
   "source": [
    "7. What happens if an existing file is opened in write mode?\n",
    "Answer=its contents are discarded and the file is treated as a new empty file.\n"
   ]
  },
  {
   "cell_type": "raw",
   "id": "e52c93dc",
   "metadata": {},
   "source": [
    "8. How do you tell the difference between read() and readlines()?\n",
    "Answer=read() reads the entire file and returns a string and readlines() returns a list of strings representing the lines of the file."
   ]
  },
  {
   "cell_type": "raw",
   "id": "b5ab451e",
   "metadata": {},
   "source": [
    "9. What data structure does a shelf value resemble?\n",
    "Answer=A shelf value resembles a dictionary value; it has keys and values, along with keys() and values() methods that work similarly to the dictionary methods of the same names."
   ]
  }
 ],
 "metadata": {
  "kernelspec": {
   "display_name": "Python 3 (ipykernel)",
   "language": "python",
   "name": "python3"
  },
  "language_info": {
   "codemirror_mode": {
    "name": "ipython",
    "version": 3
   },
   "file_extension": ".py",
   "mimetype": "text/x-python",
   "name": "python",
   "nbconvert_exporter": "python",
   "pygments_lexer": "ipython3",
   "version": "3.9.12"
  }
 },
 "nbformat": 4,
 "nbformat_minor": 5
}
