{
 "cells": [
  {
   "cell_type": "markdown",
   "id": "0c71e0cc",
   "metadata": {},
   "source": [
    "# (1) What is indentation error? Why indentation is important? Give one simple example?\n",
    "Answer: The indentation error can occur when the spaces or tabs are not placed properly. There will not be an issue if the interpreter does not find any issues with the spaces or tabs.\n",
    "Its important..Readability and consistency are essential for any good code.\n",
    "\n",
    "\n",
    "\n"
   ]
  },
  {
   "cell_type": "code",
   "execution_count": 1,
   "id": "6f54a616",
   "metadata": {},
   "outputs": [
    {
     "ename": "IndentationError",
     "evalue": "expected an indented block (146759707.py, line 5)",
     "output_type": "error",
     "traceback": [
      "\u001b[1;36m  Input \u001b[1;32mIn [1]\u001b[1;36m\u001b[0m\n\u001b[1;33m    print('a is greater than b')\u001b[0m\n\u001b[1;37m    ^\u001b[0m\n\u001b[1;31mIndentationError\u001b[0m\u001b[1;31m:\u001b[0m expected an indented block\n"
     ]
    }
   ],
   "source": [
    "#example of indentation error\n",
    "a=10\n",
    "b=20\n",
    "if a>b:\n",
    "print('a is greater than b')\n",
    "else:\n",
    "    print('a is not greater than b')"
   ]
  },
  {
   "cell_type": "code",
   "execution_count": 7,
   "id": "95aba651",
   "metadata": {},
   "outputs": [
    {
     "name": "stdout",
     "output_type": "stream",
     "text": [
      "Hey friend, is class started?: [0-False/1-True]0\n",
      "Since class is not started...\n",
      "let's revise\n"
     ]
    }
   ],
   "source": [
    "#(2)Correct the following code and write the comment where you made the correction?\n",
    "\n",
    "class_started = int(input(\"Hey friend, is class started?: [0-False/1-True]\"))\n",
    "#because bool function can not take string it return only true and false so we will take int datatype\n",
    "\n",
    "if class_started:\n",
    "   print(\"Since class started...\")\n",
    "   print(\"Lets concentrate\")\n",
    "else:\n",
    "   print(\"Since class is not started...\")\n",
    "   print(\"let's revise\") "
   ]
  },
  {
   "cell_type": "code",
   "execution_count": 17,
   "id": "6cf49976",
   "metadata": {},
   "outputs": [
    {
     "name": "stdout",
     "output_type": "stream",
     "text": [
      "sanjay\n",
      "singh\n",
      "please correct your name\n"
     ]
    }
   ],
   "source": [
    "#(3)Use if else condition to verify that dataype of input() method in python is always string.\n",
    "first_name=input()\n",
    "last_name=input()\n",
    "if first_name==('vishal') and last_name==('singh'):\n",
    "    print('correct name')\n",
    "else:\n",
    "    print('please correct your name')\n",
    "# it means always declare the datatype with in input function without take datatype input function always take string.    "
   ]
  },
  {
   "cell_type": "code",
   "execution_count": 19,
   "id": "99b60384",
   "metadata": {},
   "outputs": [
    {
     "name": "stdout",
     "output_type": "stream",
     "text": [
      "6\n",
      "8\n",
      "7\n",
      "largest number:8\n"
     ]
    }
   ],
   "source": [
    "# (4)Take 3 variables and assign integer values to them. Find the largest variable, by only using the if and else conditions.\n",
    "a=int(input())\n",
    "b=int(input())\n",
    "c=int(input())\n",
    "if a>b and a>c:\n",
    "    print(f\"largest number:{a}\")\n",
    "elif b>a and b>c:\n",
    "    print(f\"largest number:{b}\")\n",
    "else:\n",
    "    print(f\"largest number:{c}\")\n",
    "    "
   ]
  },
  {
   "cell_type": "code",
   "execution_count": 1,
   "id": "dd78ba77",
   "metadata": {},
   "outputs": [
    {
     "name": "stdout",
     "output_type": "stream",
     "text": [
      "False\n"
     ]
    }
   ],
   "source": [
    "#(5)What would be the solution?\n",
    "a = 6\n",
    "b = 10\n",
    "print( not ( not a == 10 or not b == 10) )"
   ]
  },
  {
   "cell_type": "code",
   "execution_count": 12,
   "id": "eec2e19d",
   "metadata": {},
   "outputs": [
    {
     "name": "stdout",
     "output_type": "stream",
     "text": [
      "False\n"
     ]
    },
    {
     "data": {
      "text/plain": [
       "2381718923792"
      ]
     },
     "execution_count": 12,
     "metadata": {},
     "output_type": "execute_result"
    }
   ],
   "source": [
    "# (6)Find the answer as well as find out the reason behind the result? \n",
    "#case 1: because value of the variable should be same if we take A=5 and B = 5 the ans will be true and here and we will check the address of a and address of b both are different so answer is false\n",
    "\n",
    "A = 5.0\n",
    "B = 10/2\n",
    "print(A is B)\n",
    "\n",
    "id(B)"
   ]
  },
  {
   "cell_type": "code",
   "execution_count": 8,
   "id": "7234c04a",
   "metadata": {},
   "outputs": [
    {
     "name": "stdout",
     "output_type": "stream",
     "text": [
      "False\n"
     ]
    }
   ],
   "source": [
    "#case 2:here A is float type value and B is int type so A is not B\n",
    "A = 5.0\n",
    "B = int(10/2)\n",
    "print(A is B)\n"
   ]
  },
  {
   "cell_type": "code",
   "execution_count": 2,
   "id": "281dc86f",
   "metadata": {},
   "outputs": [
    {
     "name": "stdout",
     "output_type": "stream",
     "text": [
      "False\n"
     ]
    }
   ],
   "source": [
    "#case 3:address of float value will never be same so here A is not B \n",
    "A = 5.0\n",
    "B = float(10/2)\n",
    "print(A is B)"
   ]
  },
  {
   "cell_type": "code",
   "execution_count": 5,
   "id": "f11d6aa4",
   "metadata": {},
   "outputs": [
    {
     "name": "stdout",
     "output_type": "stream",
     "text": [
      "enter a number by user:30\n",
      "it is divisible by 3,5\n"
     ]
    }
   ],
   "source": [
    "#(7)Write a program that asks the user to enter a number. You should print out a message to the user, either “That number is divisible by either 3 or 5”, or “That number is not divisible by either 3 or 5”. Be sure to consider the data type of the input you are taking in from the user. Use a single if/else block to solve this problem\n",
    "n=int(input(\"enter a number by user:\"))\n",
    "if (n%3==0) and (n%5==0):\n",
    "    print(\"it is divisible by 3,5\")\n",
    "else:\n",
    "    print('it is not divisible by 3,5')\n"
   ]
  },
  {
   "cell_type": "code",
   "execution_count": 13,
   "id": "db4d0b50",
   "metadata": {},
   "outputs": [
    {
     "name": "stdout",
     "output_type": "stream",
     "text": [
      "5\n",
      "6\n",
      "30\n"
     ]
    }
   ],
   "source": [
    "#(8)Take user input for length and width. Then calculate the area of rectangle. Also print as per length and width whether its a square of rectangle\n",
    "length=int(input())\n",
    "width=int(input())\n",
    "area_of_rectangle = width*length\n",
    "\n",
    "print(area_of_rectangle)\n",
    "\n"
   ]
  },
  {
   "cell_type": "code",
   "execution_count": 19,
   "id": "1d5015a2",
   "metadata": {},
   "outputs": [
    {
     "name": "stdout",
     "output_type": "stream",
     "text": [
      "5.2\n",
      "2.2\n",
      "85.44640000000001\n",
      "15.294400000000003\n",
      "area_of_circle_1 is large\n"
     ]
    }
   ],
   "source": [
    "#(9)Take two variable radius_1 and radius_2 and calculate the area of circle_1 and circle_2. Also print which circle has large area. If area is equal then print area is equal.\n",
    "radius_1=float(input())\n",
    "radius_2=float(input())\n",
    "pi=3.16\n",
    "area_of_circle_1=pi*radius_1**2\n",
    "area_of_circle_2=pi*radius_2**2\n",
    "print(area_of_circle_1)\n",
    "print(area_of_circle_2)\n",
    "if area_of_circle_1>area_of_circle_2:\n",
    "    print(\"area_of_circle_1 is large\")\n",
    "elif area_of_circle_1==area_of_circle_2:\n",
    "    print(\"area of circle is equal\")\n",
    "else:\n",
    "    print(\"area_of_circle_2 is large\")\n",
    "    \n"
   ]
  },
  {
   "cell_type": "code",
   "execution_count": 21,
   "id": "a123df50",
   "metadata": {},
   "outputs": [
    {
     "name": "stdout",
     "output_type": "stream",
     "text": [
      "yyyy2016\n",
      "not a century year\n"
     ]
    }
   ],
   "source": [
    "#(10)Check whether a year is leap year or not. Use nested if...else to solve this problem. A leap year is exactly divisible by 4 except for century years (years ending with 00). The century year is a leap year only if it is perfectly divisible by 400.\n",
    "year=int(input(\"yyyy\"))\n",
    "if year%4==0 and year%400==0:\n",
    "    print(\"century year\")\n",
    "else:\n",
    "    print(\"not a century year\")\n",
    "        \n"
   ]
  },
  {
   "cell_type": "code",
   "execution_count": null,
   "id": "4e5cd1b2",
   "metadata": {},
   "outputs": [],
   "source": []
  }
 ],
 "metadata": {
  "kernelspec": {
   "display_name": "Python 3 (ipykernel)",
   "language": "python",
   "name": "python3"
  },
  "language_info": {
   "codemirror_mode": {
    "name": "ipython",
    "version": 3
   },
   "file_extension": ".py",
   "mimetype": "text/x-python",
   "name": "python",
   "nbconvert_exporter": "python",
   "pygments_lexer": "ipython3",
   "version": "3.9.12"
  }
 },
 "nbformat": 4,
 "nbformat_minor": 5
}
