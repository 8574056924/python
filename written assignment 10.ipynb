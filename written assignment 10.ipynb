{
 "cells": [
  {
   "cell_type": "markdown",
   "id": "a53224e3",
   "metadata": {},
   "source": [
    "# 1. How do you distinguish between shutil.copy() and shutil.copytree()?\n",
    "\n",
    "Answer = shutil.copy() method in Python is used to copy the content of source file to destination file or directory. It also preserves the file’s permission mode but other metadata of the file like the file’s creation and modification times is not preserved. \n",
    "\n",
    "The shutil.copyfile() method in Python is used to copy the content of the source file to the destination file. The metadata of the file is not copied. Source and destination must represent a file and destination must be writable. If the destination already exists then it will be replaced with the source file otherwise a new file will be created. \n",
    "\n"
   ]
  },
  {
   "cell_type": "markdown",
   "id": "e65e313c",
   "metadata": {},
   "source": [
    "# 2. What function is used to rename files??\n",
    "\n",
    "Answer = file.rename ()"
   ]
  },
  {
   "cell_type": "markdown",
   "id": "0701c2e1",
   "metadata": {},
   "source": [
    "# 3. What is the difference between the delete functions in the send2trash and shutil modules?\n",
    "\n",
    "Answer = The shutil module’s rmtree() function can be used to delete files or folders. But, this function delete the files\n",
    "permanently. \n",
    "The operations cannot be undone if there were any accidental deletions performed.\n",
    "\n",
    "Using send2trash, we can send files to the Trash or Recycle Bin instead of permanently \n",
    "deleting them.\n",
    "If the directory contains files or other folders, those are also deleted. A TrashPermissionError exception is raised, \n",
    "in case a file could not be deleted due to permission error or any other unexpected reason.\n",
    "\n"
   ]
  },
  {
   "cell_type": "markdown",
   "id": "5120da61",
   "metadata": {},
   "source": [
    "# 4.ZipFile objects have a close() method just like File objects’ close() method. What ZipFile method is equivalent to File objects’ open() method?\n",
    "\n",
    "Answer = from zipfile import Zipfile\n",
    "with ZipFile(file_name, 'r') as zip"
   ]
  },
  {
   "cell_type": "markdown",
   "id": "a9f03c6d",
   "metadata": {},
   "source": [
    "# 5. Create a programme that searches a folder tree for files with a certain file extension (such as .pdf or .jpg). Copy these files from whatever location they are in to a new folder."
   ]
  },
  {
   "cell_type": "code",
   "execution_count": 1,
   "id": "a7ed4f67",
   "metadata": {},
   "outputs": [
    {
     "name": "stdout",
     "output_type": "stream",
     "text": [
      "D:\\document\\ADO deepika.pdf\n",
      "D:\\document\\CHSL.pdf\n",
      "D:\\document\\ISRO Vishal.pdf\n",
      "D:\\document\\LICAAO deepika.pdf\n",
      "D:\\document\\manuAAO.pdf\n",
      "D:\\document\\manuado.pdf\n",
      "D:\\document\\marksheet.pdf\n",
      "D:\\document\\postoffice.pdf\n",
      "D:\\document\\Vishal(LIC).pdf\n",
      "D:\\document\\vishalADOLIC.pdf\n",
      "D:\\document\\neetu\\ConfirmationPage-22100919052 - Copy.pdf\n",
      "D:\\document\\neetu\\ConfirmationPage-22100919052.pdf\n",
      "D:\\document\\vaibhav\\CHSL vaibhav.pdf\n",
      "D:\\document\\vaibhav\\CRPFvaibhav.pdf\n",
      "D:\\document\\vaibhav\\postoffice.pdf\n",
      "D:\\document\\vaibhav\\sscgd.pdf\n",
      "D:\\document\\vaibhav\\Vaibhav UPSSSC Junior Assistant.pdf\n",
      "D:\\document\\Vinay\\SSCGD.pdf\n"
     ]
    }
   ],
   "source": [
    "import shutil\n",
    "import os\n",
    "scr = 'D:\\document'\n",
    "dest = os.getcwd()+'\\\\New folder'\n",
    "#print(dest)\n",
    "for dirs,subdirs,files in os.walk(scr):\n",
    "    for file in files:\n",
    "        if file.endswith('.pdf'):\n",
    "            #print(file)\n",
    "            filename = os.path.join(scr,dirs,file)\n",
    "            if os.path.exists(filename):\n",
    "                print(filename)\n",
    "                shutil.copy(filename,dest)\n",
    "            \n",
    "\n"
   ]
  }
 ],
 "metadata": {
  "kernelspec": {
   "display_name": "Python 3 (ipykernel)",
   "language": "python",
   "name": "python3"
  },
  "language_info": {
   "codemirror_mode": {
    "name": "ipython",
    "version": 3
   },
   "file_extension": ".py",
   "mimetype": "text/x-python",
   "name": "python",
   "nbconvert_exporter": "python",
   "pygments_lexer": "ipython3",
   "version": "3.9.12"
  }
 },
 "nbformat": 4,
 "nbformat_minor": 5
}
